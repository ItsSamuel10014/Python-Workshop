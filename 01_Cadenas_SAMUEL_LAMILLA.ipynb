{
  "cells": [
    {
      "cell_type": "markdown",
      "source": [
        "<h1>Procesamiento de Datos a Gran Escala</h1>"
      ],
      "metadata": {
        "application/vnd.databricks.v1+cell": {
          "title": "",
          "showTitle": false,
          "inputWidgets": {},
          "nuid": "c5e61d79-8f0e-4413-afff-a73698e18bb5"
        },
        "id": "b7f7t8whJHQl"
      }
    },
    {
      "cell_type": "markdown",
      "source": [
        "# **SAMUEL ANDRES LAMILLA VERJAN**\n",
        "\n",
        "# 1077224135"
      ],
      "metadata": {
        "id": "AJHrxzFPJIW9"
      }
    },
    {
      "cell_type": "markdown",
      "source": [
        "<h2>Operaciones con Cadenas</h2>"
      ],
      "metadata": {
        "application/vnd.databricks.v1+cell": {
          "title": "",
          "showTitle": false,
          "inputWidgets": {},
          "nuid": "c5c3b9b4-1a97-4151-b056-30997a3dae8e"
        },
        "id": "wPG8YVjMJHQm"
      }
    },
    {
      "cell_type": "markdown",
      "source": [
        "<p><strong>¡Bienvenido!</strong> En este cuaderno aprenderás sobre operaciones con cadenas en el Lenguaje de Programación Python. Al finalizar, conocerás acerca de las operaciones con cadenas que se pueden realizar en Python como son, indexación, operaciones y secuencias de escape.</p>"
      ],
      "metadata": {
        "application/vnd.databricks.v1+cell": {
          "title": "",
          "showTitle": false,
          "inputWidgets": {},
          "nuid": "97dc7dc7-f023-468f-9901-62cf076efde0"
        },
        "id": "cFfv3gsGJHQm"
      }
    },
    {
      "cell_type": "markdown",
      "source": [
        "<h2>Tabla de Contenido</h2>\n",
        "<div class=\"alert alert-block alert-info\" style=\"margin-top: 20px\">\n",
        "    <ul>\n",
        "        <li>\n",
        "            <a href=\"#strings\">¿Qué es una cadena?</a>\n",
        "        </li>\n",
        "        <li>\n",
        "            <a href=\"#index\">Indexación</a>\n",
        "            <ul>\n",
        "                <li><a href=\"neg\">Indexación Negativa</a></li>\n",
        "                <li><a href=\"slice\">Slicing</a></li>\n",
        "                <li><a href=\"stride\">Stride</a></li>\n",
        "                <li><a href=\"concat\">Concatenar Cadenas</a></li>\n",
        "            </ul>\n",
        "        </li>\n",
        "        <li>\n",
        "            <a href=\"#escape\">Secuencias de Escape</a>\n",
        "        </li>\n",
        "        <li>\n",
        "            <a href=\"#operations\">Operaciones con Cadenas</a>\n",
        "        </li>\n",
        "        <li>\n",
        "            <a href=\"#quiz\">Exámen sobre Cadenas</a>\n",
        "        </li>\n",
        "    </ul>\n",
        "    <p>\n",
        "        Tiempo Estimado: <strong>15 min</strong>\n",
        "    </p>\n",
        "</div>\n",
        "\n",
        "<hr>"
      ],
      "metadata": {
        "application/vnd.databricks.v1+cell": {
          "title": "",
          "showTitle": false,
          "inputWidgets": {},
          "nuid": "75b418f4-38c8-4925-8c64-21588ac252dc"
        },
        "id": "ao4NzeapJHQm"
      }
    },
    {
      "cell_type": "markdown",
      "source": [
        "<h2 id=\"strings\">¿Qué es una cadena?</h2>"
      ],
      "metadata": {
        "application/vnd.databricks.v1+cell": {
          "title": "",
          "showTitle": false,
          "inputWidgets": {},
          "nuid": "07f23fc9-4dc4-4104-82cc-32836e59e872"
        },
        "id": "rb7mlJGZJHQn"
      }
    },
    {
      "cell_type": "markdown",
      "source": [
        "A continuación, se muestra una cadena entre comillas dobles."
      ],
      "metadata": {
        "application/vnd.databricks.v1+cell": {
          "title": "",
          "showTitle": false,
          "inputWidgets": {},
          "nuid": "8aa1dec4-df2a-49f7-bbe2-d49584a60608"
        },
        "id": "Ltx34X66JHQn"
      }
    },
    {
      "cell_type": "code",
      "source": [
        "# Usa las comillas dobles para definir una cadena\n",
        "\n",
        "\"Michael Jackson\""
      ],
      "metadata": {
        "application/vnd.databricks.v1+cell": {
          "title": "",
          "showTitle": false,
          "inputWidgets": {},
          "nuid": "26a4f2f6-c7b1-4274-a707-f7ddb76253af"
        },
        "colab": {
          "base_uri": "https://localhost:8080/",
          "height": 35
        },
        "id": "MuHnWM25JHQn",
        "outputId": "115f2d76-3f5f-4357-a0c1-ffabb3453957"
      },
      "outputs": [
        {
          "output_type": "execute_result",
          "data": {
            "text/plain": [
              "'Michael Jackson'"
            ],
            "application/vnd.google.colaboratory.intrinsic+json": {
              "type": "string"
            }
          },
          "metadata": {},
          "execution_count": 1
        }
      ],
      "execution_count": 1
    },
    {
      "cell_type": "markdown",
      "source": [
        "También podemos usar comillas simples:"
      ],
      "metadata": {
        "application/vnd.databricks.v1+cell": {
          "title": "",
          "showTitle": false,
          "inputWidgets": {},
          "nuid": "156897c4-37c7-4b5e-b027-832638056035"
        },
        "id": "D8GoVkqMJHQn"
      }
    },
    {
      "cell_type": "code",
      "source": [
        "# Usa comillas simples para definir una cadena\n",
        "\n",
        "'Michael Jackson'"
      ],
      "metadata": {
        "application/vnd.databricks.v1+cell": {
          "title": "",
          "showTitle": false,
          "inputWidgets": {},
          "nuid": "deb3b65e-db10-4e13-bb6e-1201355ad711"
        },
        "colab": {
          "base_uri": "https://localhost:8080/",
          "height": 35
        },
        "id": "PmzZCDTkJHQn",
        "outputId": "c3b2d0f5-3102-40e5-9c87-f6a1d6c0df6e"
      },
      "outputs": [
        {
          "output_type": "execute_result",
          "data": {
            "text/plain": [
              "'Michael Jackson'"
            ],
            "application/vnd.google.colaboratory.intrinsic+json": {
              "type": "string"
            }
          },
          "metadata": {},
          "execution_count": 2
        }
      ],
      "execution_count": 2
    },
    {
      "cell_type": "markdown",
      "source": [
        "Una cadena puede ser una combinación de espacios y dígitos:"
      ],
      "metadata": {
        "application/vnd.databricks.v1+cell": {
          "title": "",
          "showTitle": false,
          "inputWidgets": {},
          "nuid": "e5e4693c-3d5f-40fc-a7f6-01f1fb693843"
        },
        "id": "kcDbBC5xJHQn"
      }
    },
    {
      "cell_type": "code",
      "source": [
        "# Dígitos y espacios en una cadena\n",
        "\n",
        "'1 2 3 4 5 6 '"
      ],
      "metadata": {
        "application/vnd.databricks.v1+cell": {
          "title": "",
          "showTitle": false,
          "inputWidgets": {},
          "nuid": "725caefd-24ce-4660-bd0f-af6b902566bb"
        },
        "colab": {
          "base_uri": "https://localhost:8080/",
          "height": 35
        },
        "id": "PYq7ynzkJHQo",
        "outputId": "b81082b1-e7a2-400b-952d-ccc2c3f40d8c"
      },
      "outputs": [
        {
          "output_type": "execute_result",
          "data": {
            "text/plain": [
              "'1 2 3 4 5 6 '"
            ],
            "application/vnd.google.colaboratory.intrinsic+json": {
              "type": "string"
            }
          },
          "metadata": {},
          "execution_count": 3
        }
      ],
      "execution_count": 3
    },
    {
      "cell_type": "markdown",
      "source": [
        "Una cadena también puede estar formada por caracteres especiales :"
      ],
      "metadata": {
        "application/vnd.databricks.v1+cell": {
          "title": "",
          "showTitle": false,
          "inputWidgets": {},
          "nuid": "3049df74-fcb0-4d43-9d10-1c98a445be02"
        },
        "id": "4Mx7nEGAJHQo"
      }
    },
    {
      "cell_type": "code",
      "source": [
        "# Caracteres especiales en una cadena\n",
        "\n",
        "'@#2_#]&*^%$'"
      ],
      "metadata": {
        "application/vnd.databricks.v1+cell": {
          "title": "",
          "showTitle": false,
          "inputWidgets": {},
          "nuid": "4b20df88-dd74-44e3-a310-5b3c27ecefab"
        },
        "colab": {
          "base_uri": "https://localhost:8080/",
          "height": 35
        },
        "id": "o2b3or2ZJHQo",
        "outputId": "88f12b0f-d3dc-4310-c780-301d7ee9924c"
      },
      "outputs": [
        {
          "output_type": "execute_result",
          "data": {
            "text/plain": [
              "'@#2_#]&*^%$'"
            ],
            "application/vnd.google.colaboratory.intrinsic+json": {
              "type": "string"
            }
          },
          "metadata": {},
          "execution_count": 4
        }
      ],
      "execution_count": 4
    },
    {
      "cell_type": "markdown",
      "source": [
        "Podemos imprimir en pantallas una cadena usando la sentencia print:"
      ],
      "metadata": {
        "application/vnd.databricks.v1+cell": {
          "title": "",
          "showTitle": false,
          "inputWidgets": {},
          "nuid": "f2dca36c-a031-459e-8579-67c2d0f631b8"
        },
        "id": "0CmtpwcvJHQo"
      }
    },
    {
      "cell_type": "code",
      "source": [
        "# Imprimir la cadea\n",
        "\n",
        "print(\"hello!\")"
      ],
      "metadata": {
        "application/vnd.databricks.v1+cell": {
          "title": "",
          "showTitle": false,
          "inputWidgets": {},
          "nuid": "ab92c5e7-fe91-40e8-b339-b4150b7daef6"
        },
        "colab": {
          "base_uri": "https://localhost:8080/"
        },
        "id": "o7KeyXvKJHQo",
        "outputId": "f9301558-9637-4f7c-9b97-87bfff756e87"
      },
      "outputs": [
        {
          "output_type": "stream",
          "name": "stdout",
          "text": [
            "hello!\n"
          ]
        }
      ],
      "execution_count": 5
    },
    {
      "cell_type": "markdown",
      "source": [
        "Podemos asignar una cadena como valor de una variable:"
      ],
      "metadata": {
        "application/vnd.databricks.v1+cell": {
          "title": "",
          "showTitle": false,
          "inputWidgets": {},
          "nuid": "ee912641-c6f6-49a2-8c8a-8224e9f2c011"
        },
        "id": "vTv9pHEvJHQo"
      }
    },
    {
      "cell_type": "code",
      "source": [
        "# Asignar una cadena a una variable\n",
        "\n",
        "Name = \"Michael Jackson\"\n",
        "Name"
      ],
      "metadata": {
        "application/vnd.databricks.v1+cell": {
          "title": "",
          "showTitle": false,
          "inputWidgets": {},
          "nuid": "472735ea-e2b4-4e95-a7b9-dc5a388f8203"
        },
        "colab": {
          "base_uri": "https://localhost:8080/",
          "height": 35
        },
        "id": "OET8UxJ5JHQo",
        "outputId": "f8c704c7-a8a8-40c7-e43e-5439624cd0be"
      },
      "outputs": [
        {
          "output_type": "execute_result",
          "data": {
            "text/plain": [
              "'Michael Jackson'"
            ],
            "application/vnd.google.colaboratory.intrinsic+json": {
              "type": "string"
            }
          },
          "metadata": {},
          "execution_count": 6
        }
      ],
      "execution_count": 6
    },
    {
      "cell_type": "markdown",
      "source": [
        "<h2 id=\"index\">Indexación</h2>"
      ],
      "metadata": {
        "application/vnd.databricks.v1+cell": {
          "title": "",
          "showTitle": false,
          "inputWidgets": {},
          "nuid": "498ef261-6833-4b74-a10b-6a2efa30b4a2"
        },
        "id": "oW3N6y6oJHQo"
      }
    },
    {
      "cell_type": "markdown",
      "source": [
        "Debemos pensar en una cadena como una secuencia ordenada. Cada elemento de la secuencia puede ser accedido utilizando un índice numérico, el cual representa el lugar que ocupa dicho elemento en la cadena:"
      ],
      "metadata": {
        "application/vnd.databricks.v1+cell": {
          "title": "",
          "showTitle": false,
          "inputWidgets": {},
          "nuid": "82faedb4-0220-49c6-9513-a607ad48ca64"
        },
        "id": "ypgAOgTJJHQo"
      }
    },
    {
      "cell_type": "markdown",
      "source": [
        "<img src=\"https://s3-api.us-geo.objectstorage.softlayer.net/cf-courses-data/CognitiveClass/PY0101EN/Chapter%201/Images/StringsIndex.png\" width=\"600\" align=\"center\" />"
      ],
      "metadata": {
        "application/vnd.databricks.v1+cell": {
          "title": "",
          "showTitle": false,
          "inputWidgets": {},
          "nuid": "edf71893-be4c-4225-af89-1eb7b71e574f"
        },
        "id": "EjGndeZ3JHQo"
      }
    },
    {
      "cell_type": "markdown",
      "source": [
        "Se puede acceder al primer índice de la siguiente manera:"
      ],
      "metadata": {
        "application/vnd.databricks.v1+cell": {
          "title": "",
          "showTitle": false,
          "inputWidgets": {},
          "nuid": "3baffebb-7d70-49d7-aae5-5aed40453431"
        },
        "id": "Gh2KJ-xIJHQo"
      }
    },
    {
      "cell_type": "markdown",
      "source": [
        "<hr/>\n",
        "<div class=\"alert alert-success alertsuccess\" style=\"margin-top: 20px\">\n",
        "[Tip]: En la indexación se empieza por el 0, esto quiere decir que el primer elemento de la cadena está en el índice 0.\n",
        "</div>\n",
        "<hr/>"
      ],
      "metadata": {
        "application/vnd.databricks.v1+cell": {
          "title": "",
          "showTitle": false,
          "inputWidgets": {},
          "nuid": "dd579068-7787-4dcb-8971-1c7e70312114"
        },
        "id": "WJurk0boJHQo"
      }
    },
    {
      "cell_type": "code",
      "source": [
        "# Imprime el primer elemento de la cadena\n",
        "\n",
        "print(Name[0])"
      ],
      "metadata": {
        "application/vnd.databricks.v1+cell": {
          "title": "",
          "showTitle": false,
          "inputWidgets": {},
          "nuid": "956eff60-6fdc-4c8c-ba51-3c3af1e67d2d"
        },
        "colab": {
          "base_uri": "https://localhost:8080/"
        },
        "id": "89RvDqTQJHQo",
        "outputId": "4b222245-68cf-40f5-c28b-3115443da519"
      },
      "outputs": [
        {
          "output_type": "stream",
          "name": "stdout",
          "text": [
            "M\n"
          ]
        }
      ],
      "execution_count": 7
    },
    {
      "cell_type": "markdown",
      "source": [
        "Podemos acceder el índice 6:"
      ],
      "metadata": {
        "application/vnd.databricks.v1+cell": {
          "title": "",
          "showTitle": false,
          "inputWidgets": {},
          "nuid": "763c24bb-6639-48c4-8a9a-52f1411126c1"
        },
        "id": "jkKGFAd7JHQo"
      }
    },
    {
      "cell_type": "code",
      "source": [
        "# Imprime el elemento en el índice 6 de la cadena\n",
        "\n",
        "print(Name[6])"
      ],
      "metadata": {
        "application/vnd.databricks.v1+cell": {
          "title": "",
          "showTitle": false,
          "inputWidgets": {},
          "nuid": "61adbc4f-3f3c-4996-8d58-0191b2ce73e7"
        },
        "colab": {
          "base_uri": "https://localhost:8080/"
        },
        "id": "v8BJ7tCWJHQo",
        "outputId": "85f06919-8caa-4e21-c9d3-2dcf8b603c17"
      },
      "outputs": [
        {
          "output_type": "stream",
          "name": "stdout",
          "text": [
            "l\n"
          ]
        }
      ],
      "execution_count": 8
    },
    {
      "cell_type": "markdown",
      "source": [
        "También, podemos acceder al treceavo elemento:"
      ],
      "metadata": {
        "application/vnd.databricks.v1+cell": {
          "title": "",
          "showTitle": false,
          "inputWidgets": {},
          "nuid": "55b73ebd-cdd4-4b2c-9abe-c691447790bf"
        },
        "id": "wP4P_8hKJHQo"
      }
    },
    {
      "cell_type": "code",
      "source": [
        "# Imprime el elemento en el treceavo índice de la cadena\n",
        "\n",
        "print(Name[13])"
      ],
      "metadata": {
        "application/vnd.databricks.v1+cell": {
          "title": "",
          "showTitle": false,
          "inputWidgets": {},
          "nuid": "4b2fe12c-7371-45ed-98a7-c417c3c886ba"
        },
        "colab": {
          "base_uri": "https://localhost:8080/"
        },
        "id": "6s1qY7AgJHQp",
        "outputId": "6464f971-bb8c-4ecc-c998-a6984c141ff3"
      },
      "outputs": [
        {
          "output_type": "stream",
          "name": "stdout",
          "text": [
            "o\n"
          ]
        }
      ],
      "execution_count": 9
    },
    {
      "cell_type": "markdown",
      "source": [
        "<h3 id=\"neg\">Indexación Negativa</h3>"
      ],
      "metadata": {
        "application/vnd.databricks.v1+cell": {
          "title": "",
          "showTitle": false,
          "inputWidgets": {},
          "nuid": "ef4b0aef-856e-4310-8524-e30d9fc4a7e7"
        },
        "id": "nkQWktbxJHQp"
      }
    },
    {
      "cell_type": "markdown",
      "source": [
        "Con las cadenas tambien podemos usar la indexación negativa:"
      ],
      "metadata": {
        "application/vnd.databricks.v1+cell": {
          "title": "",
          "showTitle": false,
          "inputWidgets": {},
          "nuid": "1e699e8d-475a-4988-b27b-7bb1d0dde27a"
        },
        "id": "wUhSKi9aJHQp"
      }
    },
    {
      "cell_type": "markdown",
      "source": [
        "<img src=\"https://s3-api.us-geo.objectstorage.softlayer.net/cf-courses-data/CognitiveClass/PY0101EN/Chapter%201/Images/StringsNeg.png\" width=\"600\" align=\"center\" />"
      ],
      "metadata": {
        "application/vnd.databricks.v1+cell": {
          "title": "",
          "showTitle": false,
          "inputWidgets": {},
          "nuid": "222993fc-fc69-41e4-9c40-b0fed8c79e0b"
        },
        "id": "m4nJLhI2JHQp"
      }
    },
    {
      "cell_type": "markdown",
      "source": [
        "La indexación negativa nos sirve para numerar un elemento desde el final de una cadena."
      ],
      "metadata": {
        "application/vnd.databricks.v1+cell": {
          "title": "",
          "showTitle": false,
          "inputWidgets": {},
          "nuid": "21ad5ad4-ab40-4ac2-b1fd-8005a8ddc9a0"
        },
        "id": "a8JpDDlRJHQp"
      }
    },
    {
      "cell_type": "markdown",
      "source": [
        "El ultima elemento tiene el índice -1:"
      ],
      "metadata": {
        "application/vnd.databricks.v1+cell": {
          "title": "",
          "showTitle": false,
          "inputWidgets": {},
          "nuid": "9449b8f6-f62c-410e-a163-16672fb823c2"
        },
        "id": "P-OGf8H6JHQp"
      }
    },
    {
      "cell_type": "code",
      "source": [
        "# Imprime el último elemento de la cadena\n",
        "\n",
        "print(Name[-1])"
      ],
      "metadata": {
        "application/vnd.databricks.v1+cell": {
          "title": "",
          "showTitle": false,
          "inputWidgets": {},
          "nuid": "8673daf2-0532-4732-9cc1-4ffde815f17a"
        },
        "colab": {
          "base_uri": "https://localhost:8080/"
        },
        "id": "tWEBF9gWJHQp",
        "outputId": "1b9b3782-092a-41f9-efe4-319659bf5819"
      },
      "outputs": [
        {
          "output_type": "stream",
          "name": "stdout",
          "text": [
            "n\n"
          ]
        }
      ],
      "execution_count": 10
    },
    {
      "cell_type": "markdown",
      "source": [
        "El primer elemento se obtiene usando como índice el -15:"
      ],
      "metadata": {
        "application/vnd.databricks.v1+cell": {
          "title": "",
          "showTitle": false,
          "inputWidgets": {},
          "nuid": "c3014bd8-dde8-4fcb-b1f0-a86bfabab7c1"
        },
        "id": "EoXO64UyJHQp"
      }
    },
    {
      "cell_type": "code",
      "source": [
        "# Imprime el primer elemento de la cadena\n",
        "\n",
        "print(Name[-15])"
      ],
      "metadata": {
        "application/vnd.databricks.v1+cell": {
          "title": "",
          "showTitle": false,
          "inputWidgets": {},
          "nuid": "66c759a3-e482-4101-8427-176c62939e1b"
        },
        "colab": {
          "base_uri": "https://localhost:8080/"
        },
        "id": "UKsvqiH6JHQp",
        "outputId": "bbe1b68c-9c85-45fd-c18d-56e3b746ac44"
      },
      "outputs": [
        {
          "output_type": "stream",
          "name": "stdout",
          "text": [
            "M\n"
          ]
        }
      ],
      "execution_count": 11
    },
    {
      "cell_type": "markdown",
      "source": [
        "Para conocer la cantidad de caracteres en un cadena usamos <code>len</code>, que es la abreviación de length, en inglés significa longitud:"
      ],
      "metadata": {
        "application/vnd.databricks.v1+cell": {
          "title": "",
          "showTitle": false,
          "inputWidgets": {},
          "nuid": "0beca8f1-b3ce-45d8-a383-87b7165a9f8f"
        },
        "id": "x4urHEWIJHQp"
      }
    },
    {
      "cell_type": "code",
      "source": [
        "# Encuentra la longitud de la cadena\n",
        "\n",
        "len(\"Michael Jackson\")"
      ],
      "metadata": {
        "application/vnd.databricks.v1+cell": {
          "title": "",
          "showTitle": false,
          "inputWidgets": {},
          "nuid": "b3a10269-12b0-4657-b731-0ebfd79b8b84"
        },
        "colab": {
          "base_uri": "https://localhost:8080/"
        },
        "id": "nbK5lcZ8JHQp",
        "outputId": "d3142a6b-ee3e-497d-e388-e2a41e13b921"
      },
      "outputs": [
        {
          "output_type": "execute_result",
          "data": {
            "text/plain": [
              "15"
            ]
          },
          "metadata": {},
          "execution_count": 12
        }
      ],
      "execution_count": 12
    },
    {
      "cell_type": "markdown",
      "source": [
        "<h3 id=\"slice\">Slicing</h3>"
      ],
      "metadata": {
        "application/vnd.databricks.v1+cell": {
          "title": "",
          "showTitle": false,
          "inputWidgets": {},
          "nuid": "19a168ee-df46-4f2b-9c43-26fb8bad3100"
        },
        "id": "eYBLFsEOJHQp"
      }
    },
    {
      "cell_type": "markdown",
      "source": [
        "Podemos obtener múltiples caracteres de una cadena usando el slicing, digamos desde primero hasta el cuarto y desde el octavo hasta el doceavo:"
      ],
      "metadata": {
        "application/vnd.databricks.v1+cell": {
          "title": "",
          "showTitle": false,
          "inputWidgets": {},
          "nuid": "da37a4c2-c3d0-4857-ac65-9aa49d895fc5"
        },
        "id": "_ryMhRXdJHQp"
      }
    },
    {
      "cell_type": "markdown",
      "source": [
        "<img src=\"https://s3-api.us-geo.objectstorage.softlayer.net/cf-courses-data/CognitiveClass/PY0101EN/Chapter%201/Images/StringsSlice.png\" width=\"600\" align=\"center\" />"
      ],
      "metadata": {
        "application/vnd.databricks.v1+cell": {
          "title": "",
          "showTitle": false,
          "inputWidgets": {},
          "nuid": "a7fbdef7-db18-4da9-96f3-7da92df74bc7"
        },
        "id": "a81xNwVWJHQs"
      }
    },
    {
      "cell_type": "markdown",
      "source": [
        "<hr/>\n",
        "<div class=\"alert alert-success alertsuccess\" style=\"margin-top: 20px\">\n",
        "[Tip]: Para aplicar el slicing, el primer numero indica el índice del primer elemento, y el segundo numero indicara el índice del ultimo elemento de la sub-cadena que queremos obtener.\n",
        "</div>\n",
        "<hr/>"
      ],
      "metadata": {
        "application/vnd.databricks.v1+cell": {
          "title": "",
          "showTitle": false,
          "inputWidgets": {},
          "nuid": "226ab59e-dd92-4640-b69d-8bb7f1018903"
        },
        "id": "ZaEDo8G_JHQs"
      }
    },
    {
      "cell_type": "code",
      "source": [
        "# Asigna una seccion de la cadena dentro de la variable Name usando los indices desde el 0 hasta el 3\n",
        "\n",
        "Name[0:4]"
      ],
      "metadata": {
        "application/vnd.databricks.v1+cell": {
          "title": "",
          "showTitle": false,
          "inputWidgets": {},
          "nuid": "ccba6bf2-5333-4e5a-a3ad-ddf3bc818c02"
        },
        "colab": {
          "base_uri": "https://localhost:8080/",
          "height": 35
        },
        "id": "eJsgcjoQJHQs",
        "outputId": "bf00b29d-bf3f-446f-80cd-f5d4ed716145"
      },
      "outputs": [
        {
          "output_type": "execute_result",
          "data": {
            "text/plain": [
              "'Mich'"
            ],
            "application/vnd.google.colaboratory.intrinsic+json": {
              "type": "string"
            }
          },
          "metadata": {},
          "execution_count": 13
        }
      ],
      "execution_count": 13
    },
    {
      "cell_type": "code",
      "source": [
        "# Asigna una seccion de la cadena dentro de la variable Name usando los indices desde el 8 hasta el 11\n",
        "\n",
        "Name[8:12]"
      ],
      "metadata": {
        "application/vnd.databricks.v1+cell": {
          "title": "",
          "showTitle": false,
          "inputWidgets": {},
          "nuid": "22f39e7a-d6ae-445a-b4fa-ec6faa54e047"
        },
        "colab": {
          "base_uri": "https://localhost:8080/",
          "height": 35
        },
        "id": "9ucvFkeZJHQs",
        "outputId": "91f061c2-842a-4b59-840f-0c494e251b94"
      },
      "outputs": [
        {
          "output_type": "execute_result",
          "data": {
            "text/plain": [
              "'Jack'"
            ],
            "application/vnd.google.colaboratory.intrinsic+json": {
              "type": "string"
            }
          },
          "metadata": {},
          "execution_count": 14
        }
      ],
      "execution_count": 14
    },
    {
      "cell_type": "markdown",
      "source": [
        "<h3 id=\"stride\">Stride</h3>"
      ],
      "metadata": {
        "application/vnd.databricks.v1+cell": {
          "title": "",
          "showTitle": false,
          "inputWidgets": {},
          "nuid": "7e9cea89-8472-4e3e-8c7e-ae6be95be267"
        },
        "id": "TaHTQmwhJHQs"
      }
    },
    {
      "cell_type": "markdown",
      "source": [
        "Para usar la técnica del stride debemos asignar un valor que a continuación se explica, si usamos el '2' por ejemplo, estaremos indicando que queremos seleccionar solamente cada segundo elemento de la cadena:"
      ],
      "metadata": {
        "application/vnd.databricks.v1+cell": {
          "title": "",
          "showTitle": false,
          "inputWidgets": {},
          "nuid": "9c07eeb9-1a6b-4c0e-9fad-001b24a65953"
        },
        "id": "1MCLzhKYJHQs"
      }
    },
    {
      "cell_type": "markdown",
      "source": [
        "<img src=\"https://s3-api.us-geo.objectstorage.softlayer.net/cf-courses-data/CognitiveClass/PY0101EN/Chapter%201/Images/StringsStride.png\" width=\"600\" align=\"center\" />"
      ],
      "metadata": {
        "application/vnd.databricks.v1+cell": {
          "title": "",
          "showTitle": false,
          "inputWidgets": {},
          "nuid": "7c39cfc4-298c-43c4-99a1-b625967921ef"
        },
        "id": "GMuNDOc7JHQs"
      }
    },
    {
      "cell_type": "code",
      "source": [
        "# Toma cada segundo elemento. Los elementos con índice 1, 3, 5 ...\n",
        "\n",
        "Name[::2]"
      ],
      "metadata": {
        "application/vnd.databricks.v1+cell": {
          "title": "",
          "showTitle": false,
          "inputWidgets": {},
          "nuid": "fdaefc84-384d-415a-a079-123a601deeb1"
        },
        "colab": {
          "base_uri": "https://localhost:8080/",
          "height": 35
        },
        "id": "0DzRsx7QJHQs",
        "outputId": "72782b87-89a1-45ad-a315-30c690b9b4a0"
      },
      "outputs": [
        {
          "output_type": "execute_result",
          "data": {
            "text/plain": [
              "'McalJcsn'"
            ],
            "application/vnd.google.colaboratory.intrinsic+json": {
              "type": "string"
            }
          },
          "metadata": {},
          "execution_count": 15
        }
      ],
      "execution_count": 15
    },
    {
      "cell_type": "markdown",
      "source": [
        "También Podemos combinar el slicing con el stride. Para este caso, seleccionamos los primeros cinco elementos y después aplicamos stride:"
      ],
      "metadata": {
        "application/vnd.databricks.v1+cell": {
          "title": "",
          "showTitle": false,
          "inputWidgets": {},
          "nuid": "05fb0838-a4de-486b-88e4-9834bc8e01d7"
        },
        "id": "tdsTQK0ZJHQs"
      }
    },
    {
      "cell_type": "code",
      "source": [
        "# Toma cada segundo elemento desde el índice 0 al 4\n",
        "\n",
        "Name[0:5:2]"
      ],
      "metadata": {
        "application/vnd.databricks.v1+cell": {
          "title": "",
          "showTitle": false,
          "inputWidgets": {},
          "nuid": "808f6d84-22b3-41a1-856c-94b54061aa71"
        },
        "colab": {
          "base_uri": "https://localhost:8080/",
          "height": 35
        },
        "id": "Ofni3M5IJHQs",
        "outputId": "3b5de9b6-e9a4-4450-fd77-f7208c50e14f"
      },
      "outputs": [
        {
          "output_type": "execute_result",
          "data": {
            "text/plain": [
              "'Mca'"
            ],
            "application/vnd.google.colaboratory.intrinsic+json": {
              "type": "string"
            }
          },
          "metadata": {},
          "execution_count": 16
        }
      ],
      "execution_count": 16
    },
    {
      "cell_type": "markdown",
      "source": [
        "<h3 id=\"concat\">Concatenar Cadenas</h3>"
      ],
      "metadata": {
        "application/vnd.databricks.v1+cell": {
          "title": "",
          "showTitle": false,
          "inputWidgets": {},
          "nuid": "9be577d4-4e55-4d17-8bcd-faf94f7d42b8"
        },
        "id": "pY09OZy4JHQs"
      }
    },
    {
      "cell_type": "markdown",
      "source": [
        "Podemos concatenar o combinar cadenas usando el símbolo de suma, el resultado será una nueva cadena que surge de la combinación de ambas:"
      ],
      "metadata": {
        "application/vnd.databricks.v1+cell": {
          "title": "",
          "showTitle": false,
          "inputWidgets": {},
          "nuid": "ca9879b1-5dac-40ff-83b0-82c0e32e964e"
        },
        "id": "moGUUVWCJHQs"
      }
    },
    {
      "cell_type": "code",
      "source": [
        "# Concatenar dos cadenas\n",
        "\n",
        "Statement = Name + \"is the best\"\n",
        "Statement"
      ],
      "metadata": {
        "application/vnd.databricks.v1+cell": {
          "title": "",
          "showTitle": false,
          "inputWidgets": {},
          "nuid": "fe24609a-7daa-4090-9c24-36571c5e61ea"
        },
        "colab": {
          "base_uri": "https://localhost:8080/",
          "height": 35
        },
        "id": "q2nqYvg7JHQs",
        "outputId": "9e4a7387-295e-4ee3-cc14-a3282732951a"
      },
      "outputs": [
        {
          "output_type": "execute_result",
          "data": {
            "text/plain": [
              "'Michael Jacksonis the best'"
            ],
            "application/vnd.google.colaboratory.intrinsic+json": {
              "type": "string"
            }
          },
          "metadata": {},
          "execution_count": 17
        }
      ],
      "execution_count": 17
    },
    {
      "cell_type": "markdown",
      "source": [
        "Para replicar los valores en una cadena simplemente podemos multiplicarla por el numero de veces que deseemos. Para este caso, el numero de veces es tres. El resultado es una nueva cadena, la cual consiste en tres copias de la original:"
      ],
      "metadata": {
        "application/vnd.databricks.v1+cell": {
          "title": "",
          "showTitle": false,
          "inputWidgets": {},
          "nuid": "b0133664-e3e3-4d83-8c81-a8199b2a76cb"
        },
        "id": "h1NDh3K-JHQt"
      }
    },
    {
      "cell_type": "code",
      "source": [
        "# Imprime la cadena 3 veces\n",
        "\n",
        "3 * \"Michael Jackson\""
      ],
      "metadata": {
        "application/vnd.databricks.v1+cell": {
          "title": "",
          "showTitle": false,
          "inputWidgets": {},
          "nuid": "5e196dbe-1920-4bb8-bb51-391ba73ec80e"
        },
        "colab": {
          "base_uri": "https://localhost:8080/",
          "height": 35
        },
        "id": "gOxOy79EJHQt",
        "outputId": "771b0696-6213-463f-98ce-b95b66ede117"
      },
      "outputs": [
        {
          "output_type": "execute_result",
          "data": {
            "text/plain": [
              "'Michael JacksonMichael JacksonMichael Jackson'"
            ],
            "application/vnd.google.colaboratory.intrinsic+json": {
              "type": "string"
            }
          },
          "metadata": {},
          "execution_count": 18
        }
      ],
      "execution_count": 18
    },
    {
      "cell_type": "markdown",
      "source": [
        "Se puede crear una nueva cadena añadiendo otra a la original contenida en la variable. Concatenada con una nueva cadena, el resultado es otra diferente, Michael Jackson pasó a ser “Michael Jackson is the best”."
      ],
      "metadata": {
        "application/vnd.databricks.v1+cell": {
          "title": "",
          "showTitle": false,
          "inputWidgets": {},
          "nuid": "90c2c1d7-0c9c-46a5-ab5c-2d40eea40657"
        },
        "id": "zmVrUnLxJHQt"
      }
    },
    {
      "cell_type": "code",
      "source": [
        "# Concatenar cadenas\n",
        "\n",
        "Name = \"Michael Jackson\"\n",
        "Name = Name + \" is the best\"\n",
        "Name"
      ],
      "metadata": {
        "application/vnd.databricks.v1+cell": {
          "title": "",
          "showTitle": false,
          "inputWidgets": {},
          "nuid": "b575a573-242d-4252-a8c9-08e1c4923d06"
        },
        "colab": {
          "base_uri": "https://localhost:8080/",
          "height": 35
        },
        "id": "zXszizs9JHQt",
        "outputId": "7a6c99bc-5b43-43f7-8653-f1b84782134b"
      },
      "outputs": [
        {
          "output_type": "execute_result",
          "data": {
            "text/plain": [
              "'Michael Jackson is the best'"
            ],
            "application/vnd.google.colaboratory.intrinsic+json": {
              "type": "string"
            }
          },
          "metadata": {},
          "execution_count": 19
        }
      ],
      "execution_count": 19
    },
    {
      "cell_type": "markdown",
      "source": [
        "<h2 id=\"escape\">Secuencias de Escape</h2>"
      ],
      "metadata": {
        "application/vnd.databricks.v1+cell": {
          "title": "",
          "showTitle": false,
          "inputWidgets": {},
          "nuid": "3d6fafbb-5f58-4dac-935d-53cee7005b15"
        },
        "id": "h2TS4xdtJHQt"
      }
    },
    {
      "cell_type": "markdown",
      "source": [
        "Una barra invertida representa el inicio de una secuencia de escape. Estas representan cadenas que pudieran ser difíciles de introducir. Por ejemplo, una barra invertida seguida de una \"n\" representa un salto de línea. En la salida de pantalla tendremos un salto de línea cada vez que una barra invertida y la letra \"n\" sea encontrada."
      ],
      "metadata": {
        "application/vnd.databricks.v1+cell": {
          "title": "",
          "showTitle": false,
          "inputWidgets": {},
          "nuid": "c9b105cd-5a60-4dc0-895d-d44babb45a58"
        },
        "id": "WfVtT3CGJHQt"
      }
    },
    {
      "cell_type": "code",
      "source": [
        "# Secuencia de escape para un Salto de línea\n",
        "\n",
        "print(\" Michael Jackson \\n is the best\" )"
      ],
      "metadata": {
        "application/vnd.databricks.v1+cell": {
          "title": "",
          "showTitle": false,
          "inputWidgets": {},
          "nuid": "6c7578ab-35cd-4edc-8316-6a5bc0ddb17e"
        },
        "colab": {
          "base_uri": "https://localhost:8080/"
        },
        "id": "yyU_EH3fJHQt",
        "outputId": "938b25ef-a4e9-44f0-e753-fbfa8c2262d0"
      },
      "outputs": [
        {
          "output_type": "stream",
          "name": "stdout",
          "text": [
            " Michael Jackson \n",
            " is the best\n"
          ]
        }
      ],
      "execution_count": 20
    },
    {
      "cell_type": "markdown",
      "source": [
        "De igual forma, barra invertida \"t\" aplicará un espacio de tabulación:"
      ],
      "metadata": {
        "application/vnd.databricks.v1+cell": {
          "title": "",
          "showTitle": false,
          "inputWidgets": {},
          "nuid": "6b374585-947b-44e0-992b-365e5327e30b"
        },
        "id": "gWhPdeSDJHQt"
      }
    },
    {
      "cell_type": "code",
      "source": [
        "# Secuencia de escape para un espacio de tabulación\n",
        "\n",
        "print(\" Michael Jackson \\t is the best\" )"
      ],
      "metadata": {
        "application/vnd.databricks.v1+cell": {
          "title": "",
          "showTitle": false,
          "inputWidgets": {},
          "nuid": "84df098e-dd52-4542-adef-519de5c326d3"
        },
        "colab": {
          "base_uri": "https://localhost:8080/"
        },
        "id": "LOx1EmfdJHQt",
        "outputId": "e34a3a0a-bd84-4068-a28c-9e481acd9c3a"
      },
      "outputs": [
        {
          "output_type": "stream",
          "name": "stdout",
          "text": [
            " Michael Jackson \t is the best\n"
          ]
        }
      ],
      "execution_count": 21
    },
    {
      "cell_type": "markdown",
      "source": [
        "En caso de quieras que una barra invertida forme parte de una cadena, utiliza una doble barra invertida:"
      ],
      "metadata": {
        "application/vnd.databricks.v1+cell": {
          "title": "",
          "showTitle": false,
          "inputWidgets": {},
          "nuid": "5ef8b346-82cd-4bdc-8b5b-8001e827e6f1"
        },
        "id": "rXlpVlG-JHQt"
      }
    },
    {
      "cell_type": "code",
      "source": [
        "# Incluir una barra invertida en una cadena\n",
        "\n",
        "print(\" Michael Jackson \\\\ is the best\" )"
      ],
      "metadata": {
        "application/vnd.databricks.v1+cell": {
          "title": "",
          "showTitle": false,
          "inputWidgets": {},
          "nuid": "677d6591-409e-4b00-86f6-1f5233f4eef4"
        },
        "colab": {
          "base_uri": "https://localhost:8080/"
        },
        "id": "f6z2yqAkJHQt",
        "outputId": "0cd39d5d-c7ba-4cf1-be97-223c473fc552"
      },
      "outputs": [
        {
          "output_type": "stream",
          "name": "stdout",
          "text": [
            " Michael Jackson \\ is the best\n"
          ]
        }
      ],
      "execution_count": 22
    },
    {
      "cell_type": "markdown",
      "source": [
        "Otra forma de hacer que se muestre la barra invertida de una cadena es colocando antes una “r”:"
      ],
      "metadata": {
        "application/vnd.databricks.v1+cell": {
          "title": "",
          "showTitle": false,
          "inputWidgets": {},
          "nuid": "540604f1-e9ef-4bcf-959c-20ba8ffd67c7"
        },
        "id": "_q0E3bjyJHQt"
      }
    },
    {
      "cell_type": "code",
      "source": [
        "# La letra r le dirá a python que muestre la cadena tal cual e ignore lo que haya despues de la barra invertida\n",
        "\n",
        "print(r\" Michael Jackson \\ is the best\" )"
      ],
      "metadata": {
        "application/vnd.databricks.v1+cell": {
          "title": "",
          "showTitle": false,
          "inputWidgets": {},
          "nuid": "3c299dd8-0c47-4f4b-9642-028300059880"
        },
        "colab": {
          "base_uri": "https://localhost:8080/"
        },
        "id": "Q6pUvH2qJHQt",
        "outputId": "c70d2037-959c-44a5-9faf-8c7302c8d164"
      },
      "outputs": [
        {
          "output_type": "stream",
          "name": "stdout",
          "text": [
            " Michael Jackson \\ is the best\n"
          ]
        }
      ],
      "execution_count": 23
    },
    {
      "cell_type": "markdown",
      "source": [
        "<h2 id=\"operations\">Operaciones con Cadenas</h2>"
      ],
      "metadata": {
        "application/vnd.databricks.v1+cell": {
          "title": "",
          "showTitle": false,
          "inputWidgets": {},
          "nuid": "aa0de817-641b-4893-a0ab-e0b7f66b5fbc"
        },
        "id": "iKhp13ehJHQt"
      }
    },
    {
      "cell_type": "markdown",
      "source": [
        "En Python existen muchos métodos para hacer operaciones con cadenas que pueden ser usados para manipular datos. Usaremos algunas operaciones básicas con cadenas."
      ],
      "metadata": {
        "application/vnd.databricks.v1+cell": {
          "title": "",
          "showTitle": false,
          "inputWidgets": {},
          "nuid": "e9eb402f-2691-460d-a980-7d7e3ec1c89c"
        },
        "id": "fgH5ZLXLJHQu"
      }
    },
    {
      "cell_type": "markdown",
      "source": [
        "Usemos ahora el método <code>upper</code>; este método convierte los caracteres de minúsculas a mayúsculas:"
      ],
      "metadata": {
        "application/vnd.databricks.v1+cell": {
          "title": "",
          "showTitle": false,
          "inputWidgets": {},
          "nuid": "17ffb4f6-e366-4b3e-9d21-a39d62b8f23c"
        },
        "id": "Ij7NyNtaJHQu"
      }
    },
    {
      "cell_type": "code",
      "source": [
        "# Convertir todos los caracteres de la cadena en mayúsculas\n",
        "\n",
        "A = \"Thriller is the sixth studio album\"\n",
        "print(\"before upper:\", A)\n",
        "B = A.upper()\n",
        "print(\"After upper:\", B)"
      ],
      "metadata": {
        "application/vnd.databricks.v1+cell": {
          "title": "",
          "showTitle": false,
          "inputWidgets": {},
          "nuid": "05622a9b-5c39-4f3c-9e47-734de5018ce4"
        },
        "colab": {
          "base_uri": "https://localhost:8080/"
        },
        "id": "9tfp3nWDJHQu",
        "outputId": "e9b4c00c-6d1d-42f2-e787-2ba5c2ad0645"
      },
      "outputs": [
        {
          "output_type": "stream",
          "name": "stdout",
          "text": [
            "before upper: Thriller is the sixth studio album\n",
            "After upper: THRILLER IS THE SIXTH STUDIO ALBUM\n"
          ]
        }
      ],
      "execution_count": 24
    },
    {
      "cell_type": "markdown",
      "source": [
        "El método <code>replace</code> reemplaza un segmento de la cadena, p.ej. una sub-cadena por una nueva. Introducimos primero la parte de la cadena que queremos cambiar. En el segundo argumento pondremos el segmento que reemplazara al anterior, el resultado será una nueva cadena con una de sus partes modificada:"
      ],
      "metadata": {
        "application/vnd.databricks.v1+cell": {
          "title": "",
          "showTitle": false,
          "inputWidgets": {},
          "nuid": "dc45b42d-0846-4696-abc9-e99a68b2e1be"
        },
        "id": "l2v38MWAJHQu"
      }
    },
    {
      "cell_type": "code",
      "source": [
        "# Reemplazar la vieja sub-cadena por una nueva\n",
        "\n",
        "A = \"Michael Jackson is the best\"\n",
        "B = A.replace('Michael', 'Janet')\n",
        "B"
      ],
      "metadata": {
        "application/vnd.databricks.v1+cell": {
          "title": "",
          "showTitle": false,
          "inputWidgets": {},
          "nuid": "8d0cdb35-4a72-42d7-a5d9-047a3daad3d4"
        },
        "colab": {
          "base_uri": "https://localhost:8080/",
          "height": 35
        },
        "id": "8rwKhdZEJHQu",
        "outputId": "6aa60ef2-590c-49f6-ef21-cd249624d915"
      },
      "outputs": [
        {
          "output_type": "execute_result",
          "data": {
            "text/plain": [
              "'Janet Jackson is the best'"
            ],
            "application/vnd.google.colaboratory.intrinsic+json": {
              "type": "string"
            }
          },
          "metadata": {},
          "execution_count": 25
        }
      ],
      "execution_count": 25
    },
    {
      "cell_type": "markdown",
      "source": [
        "La función del método <code>find</code> es encontrar una sub-cadena. El argumento del método es la sub-cadena que deseas encontrar, y el resultado será el numero del índice perteneciente al primer carácter de la sub-cadena. Podemos encontrar la sub-cadena <code>jack</code> o <code>el</code>."
      ],
      "metadata": {
        "application/vnd.databricks.v1+cell": {
          "title": "",
          "showTitle": false,
          "inputWidgets": {},
          "nuid": "b3577d50-6516-4fbf-8d4d-01639fc55e2f"
        },
        "id": "J74p2YskJHQu"
      }
    },
    {
      "cell_type": "markdown",
      "source": [
        "<img src=\"https://s3-api.us-geo.objectstorage.softlayer.net/cf-courses-data/CognitiveClass/PY0101EN/Chapter%201/Images/StringsFind.png\" width=\"600\" align=\"center\" />"
      ],
      "metadata": {
        "application/vnd.databricks.v1+cell": {
          "title": "",
          "showTitle": false,
          "inputWidgets": {},
          "nuid": "bd08cea0-0d32-4dee-a7f6-82e927a03bff"
        },
        "id": "3_M-Uf2BJHQu"
      }
    },
    {
      "cell_type": "code",
      "source": [
        "# Encontrar la sub-cadena. El resultado será unicamente el índice del primer elemente de la sub-cadena dentro de la cadena principal.\n",
        "\n",
        "Name = \"Michael Jackson\"\n",
        "Name.find('el')"
      ],
      "metadata": {
        "application/vnd.databricks.v1+cell": {
          "title": "",
          "showTitle": false,
          "inputWidgets": {},
          "nuid": "c28dcd0f-71bb-4c4a-bc7b-46e94156ff92"
        },
        "colab": {
          "base_uri": "https://localhost:8080/"
        },
        "id": "RMieneXIJHQu",
        "outputId": "48b8d439-bc89-4954-fee2-89bd0b5ca460"
      },
      "outputs": [
        {
          "output_type": "execute_result",
          "data": {
            "text/plain": [
              "5"
            ]
          },
          "metadata": {},
          "execution_count": 26
        }
      ],
      "execution_count": 26
    },
    {
      "cell_type": "code",
      "source": [
        "# Encotrar la sub-cadena dentro de la cadena.\n",
        "\n",
        "Name.find('Jack')"
      ],
      "metadata": {
        "application/vnd.databricks.v1+cell": {
          "title": "",
          "showTitle": false,
          "inputWidgets": {},
          "nuid": "da2dc5bb-48b0-46d6-a5d6-c915ec0ab6e0"
        },
        "colab": {
          "base_uri": "https://localhost:8080/"
        },
        "id": "5sUzQNvNJHQu",
        "outputId": "6ffa1ff0-1f60-4445-c3ce-ba1099585062"
      },
      "outputs": [
        {
          "output_type": "execute_result",
          "data": {
            "text/plain": [
              "8"
            ]
          },
          "metadata": {},
          "execution_count": 27
        }
      ],
      "execution_count": 27
    },
    {
      "cell_type": "markdown",
      "source": [
        "Si la sub-cadena no se encuentra en la cadena principal el resultado será -1. Por ejemplo, la cadena 'Jasdfasdasdf' no es una sub-cadena:"
      ],
      "metadata": {
        "application/vnd.databricks.v1+cell": {
          "title": "",
          "showTitle": false,
          "inputWidgets": {},
          "nuid": "804d4f0e-acdc-4bba-bda1-49b2fb040bbd"
        },
        "id": "TL2D83L1JHQu"
      }
    },
    {
      "cell_type": "code",
      "source": [
        "# Si no se encuentra la sub-cadena en la cadena principal\n",
        "\n",
        "Name.find('Jasdfasdasdf')"
      ],
      "metadata": {
        "collapsed": true,
        "application/vnd.databricks.v1+cell": {
          "title": "",
          "showTitle": false,
          "inputWidgets": {},
          "nuid": "70870236-7a8c-456c-b2e4-6f7bb79f8cb3"
        },
        "colab": {
          "base_uri": "https://localhost:8080/"
        },
        "id": "SBYzgFLcJHQu",
        "outputId": "f657ad2f-b885-4ed2-f51c-7728be6045a9"
      },
      "outputs": [
        {
          "output_type": "execute_result",
          "data": {
            "text/plain": [
              "-1"
            ]
          },
          "metadata": {},
          "execution_count": 28
        }
      ],
      "execution_count": 28
    },
    {
      "cell_type": "markdown",
      "source": [
        "<h2 id=\"quiz\">Exámen sobre Cadenas</h2>"
      ],
      "metadata": {
        "application/vnd.databricks.v1+cell": {
          "title": "",
          "showTitle": false,
          "inputWidgets": {},
          "nuid": "8cfcb624-f5f8-4433-b094-7ad339e9d7ae"
        },
        "id": "1OIdgIjyJHQu"
      }
    },
    {
      "cell_type": "markdown",
      "source": [
        "¿Cual es el valor de la variable <code>A</code> después de ejecutar el siguiente código?"
      ],
      "metadata": {
        "application/vnd.databricks.v1+cell": {
          "title": "",
          "showTitle": false,
          "inputWidgets": {},
          "nuid": "8cac69a8-c656-4388-8e47-091031ce304e"
        },
        "id": "zZDltp5pJHQu"
      }
    },
    {
      "cell_type": "code",
      "source": [
        "# Escribe abajo tu código y presiona Shift+Enter para ejecutarlo\n",
        "\n",
        "A = \"1\"\n",
        "A"
      ],
      "metadata": {
        "application/vnd.databricks.v1+cell": {
          "title": "",
          "showTitle": false,
          "inputWidgets": {},
          "nuid": "ddb3b91a-cb39-4ff4-a4a3-dedfe6fb5ed9"
        },
        "colab": {
          "base_uri": "https://localhost:8080/",
          "height": 35
        },
        "id": "SMfyVEsUJHQu",
        "outputId": "74f52548-e34b-42c1-fa10-4f799a4b51ed"
      },
      "outputs": [
        {
          "output_type": "execute_result",
          "data": {
            "text/plain": [
              "'1'"
            ],
            "application/vnd.google.colaboratory.intrinsic+json": {
              "type": "string"
            }
          },
          "metadata": {},
          "execution_count": 34
        }
      ],
      "execution_count": 34
    },
    {
      "cell_type": "markdown",
      "source": [
        "La respuesta es '1'"
      ],
      "metadata": {
        "id": "VJFm0KZJKtjW"
      }
    },
    {
      "cell_type": "markdown",
      "source": [
        "Haz doble click <b>aquí</b> para ver la solución.\n",
        "\n",
        "<!-- Your answer is below:\n",
        "\"1\"\n",
        "-->"
      ],
      "metadata": {
        "application/vnd.databricks.v1+cell": {
          "title": "",
          "showTitle": false,
          "inputWidgets": {},
          "nuid": "811acc28-880a-442e-875c-13b1437ec777"
        },
        "id": "4xSPcVUsJHQu"
      }
    },
    {
      "cell_type": "markdown",
      "source": [
        "¿Cual es el valor de la variable <code>B</code> después de ejecutar el siguiente código?"
      ],
      "metadata": {
        "application/vnd.databricks.v1+cell": {
          "title": "",
          "showTitle": false,
          "inputWidgets": {},
          "nuid": "4a2b11b3-7994-4d9c-9c9c-fe09ff58516e"
        },
        "id": "FJ47NvkYJHQu"
      }
    },
    {
      "cell_type": "code",
      "source": [
        "# Escribe abajo tu código y presiona Shift+Enter para ejecutarlo\n",
        "\n",
        "B = \"2\"\n",
        "B"
      ],
      "metadata": {
        "collapsed": true,
        "application/vnd.databricks.v1+cell": {
          "title": "",
          "showTitle": false,
          "inputWidgets": {},
          "nuid": "b7b54f58-f3b7-4e87-bbe9-84fa5ef80eb7"
        },
        "colab": {
          "base_uri": "https://localhost:8080/",
          "height": 35
        },
        "id": "Em_H9lgXJHQu",
        "outputId": "c4310aa5-7a79-46bf-9ced-558079ae5a9a"
      },
      "outputs": [
        {
          "output_type": "execute_result",
          "data": {
            "text/plain": [
              "'2'"
            ],
            "application/vnd.google.colaboratory.intrinsic+json": {
              "type": "string"
            }
          },
          "metadata": {},
          "execution_count": 35
        }
      ],
      "execution_count": 35
    },
    {
      "cell_type": "markdown",
      "source": [
        "la respuesta es '2'"
      ],
      "metadata": {
        "id": "3bWHyfUpLXdA"
      }
    },
    {
      "cell_type": "markdown",
      "source": [
        "Haz doble click <b>aquí</b> para ver la solución.\n",
        "\n",
        "<!-- Your answer is below:\n",
        "\"2\"\n",
        "-->"
      ],
      "metadata": {
        "application/vnd.databricks.v1+cell": {
          "title": "",
          "showTitle": false,
          "inputWidgets": {},
          "nuid": "e23964d1-cdac-43c4-ac42-855cc74f0eba"
        },
        "id": "Ec4GZZcxJHQu"
      }
    },
    {
      "cell_type": "markdown",
      "source": [
        "¿Cual es el valor de la variable <code>C</code> después de ejecutar el siguiente código?"
      ],
      "metadata": {
        "application/vnd.databricks.v1+cell": {
          "title": "",
          "showTitle": false,
          "inputWidgets": {},
          "nuid": "956a96c3-9fdd-45bf-95f4-3bb6b019a3be"
        },
        "id": "NVQbO1TYJHQv"
      }
    },
    {
      "cell_type": "code",
      "source": [
        "# Escribe abajo tu código y presiona Shift+Enter para ejecutarlo\n",
        "\n",
        "C = A + B\n",
        "C"
      ],
      "metadata": {
        "application/vnd.databricks.v1+cell": {
          "title": "",
          "showTitle": false,
          "inputWidgets": {},
          "nuid": "33186c3e-73c4-4983-ad57-127675d91e4b"
        },
        "colab": {
          "base_uri": "https://localhost:8080/",
          "height": 35
        },
        "id": "iW84r7MKJHQv",
        "outputId": "554f9faf-9a38-44a1-abb6-b99cf247c86b"
      },
      "outputs": [
        {
          "output_type": "execute_result",
          "data": {
            "text/plain": [
              "'12'"
            ],
            "application/vnd.google.colaboratory.intrinsic+json": {
              "type": "string"
            }
          },
          "metadata": {},
          "execution_count": 36
        }
      ],
      "execution_count": 36
    },
    {
      "cell_type": "markdown",
      "source": [
        "la respuesta es '12' y no el numero 12 por que no se estan sumando dos enteros, si no, que se estan concatenando 2 cadenas."
      ],
      "metadata": {
        "id": "L8ZGEs4vLiVv"
      }
    },
    {
      "cell_type": "markdown",
      "source": [
        "Haz doble click <b>aquí</b> para ver la solución.\n",
        "\n",
        "<!-- Your answer is below:\n",
        "\"12\"\n",
        "-->"
      ],
      "metadata": {
        "application/vnd.databricks.v1+cell": {
          "title": "",
          "showTitle": false,
          "inputWidgets": {},
          "nuid": "b703193a-ff7c-4bf2-8c03-c814e4cf9f3a"
        },
        "id": "T5Rij5G4JHQv"
      }
    },
    {
      "cell_type": "markdown",
      "source": [
        "En la variable <code>D</code> haz uso del slicing para imprimir solo los primeros tres elementos:"
      ],
      "metadata": {
        "application/vnd.databricks.v1+cell": {
          "title": "",
          "showTitle": false,
          "inputWidgets": {},
          "nuid": "1ed60bff-748e-4c67-8307-04520da43b97"
        },
        "id": "AAUkiLc1JHQv"
      }
    },
    {
      "cell_type": "code",
      "source": [
        "# Escribe abajo tu código y presiona Shift+Enter para ejecutarlo\n",
        "\n",
        "D = \"ABCDEFG\"\n",
        "print(D[:3])"
      ],
      "metadata": {
        "application/vnd.databricks.v1+cell": {
          "title": "",
          "showTitle": false,
          "inputWidgets": {},
          "nuid": "0bbc3088-0e6a-4ef3-ae51-f776a7f079ad"
        },
        "colab": {
          "base_uri": "https://localhost:8080/"
        },
        "id": "wCdTltECJHQv",
        "outputId": "48d0b0ed-4462-4a7d-dd71-c42c10a7061e"
      },
      "outputs": [
        {
          "output_type": "stream",
          "name": "stdout",
          "text": [
            "ABC\n"
          ]
        }
      ],
      "execution_count": 40
    },
    {
      "cell_type": "markdown",
      "source": [
        "Haz doble click <b>aquí</b> para ver la solución.\n",
        "\n",
        "<!-- Your answer is below:\n",
        "print(D[:3])\n",
        "# or\n",
        "print(D[0:3])\n",
        "-->"
      ],
      "metadata": {
        "application/vnd.databricks.v1+cell": {
          "title": "",
          "showTitle": false,
          "inputWidgets": {},
          "nuid": "a13e5374-233c-4bd8-98c7-68393522680a"
        },
        "id": "2SpgMi7UJHQv"
      }
    },
    {
      "cell_type": "markdown",
      "source": [
        "Usa un valor de stride de 2 para imprimir cada segundo elemento de la cadena <code>E</code>:"
      ],
      "metadata": {
        "application/vnd.databricks.v1+cell": {
          "title": "",
          "showTitle": false,
          "inputWidgets": {},
          "nuid": "d4f53ebb-1961-48e4-9349-1a1cb3ed43ac"
        },
        "id": "WLUBqF-UJHQv"
      }
    },
    {
      "cell_type": "code",
      "source": [
        "# Escribe abajo tu código y presiona Shift+Enter para ejecutarlo\n",
        "\n",
        "E = 'clocrkr1e1c1t'\n",
        "print(E[::2])"
      ],
      "metadata": {
        "collapsed": true,
        "application/vnd.databricks.v1+cell": {
          "title": "",
          "showTitle": false,
          "inputWidgets": {},
          "nuid": "f317b44a-0374-4bce-a3bc-6b0d29a1c342"
        },
        "colab": {
          "base_uri": "https://localhost:8080/"
        },
        "id": "dmUQkdCfJHQv",
        "outputId": "961b1b30-d777-419f-e863-3afae1f459c8"
      },
      "outputs": [
        {
          "output_type": "stream",
          "name": "stdout",
          "text": [
            "correct\n"
          ]
        }
      ],
      "execution_count": 41
    },
    {
      "cell_type": "markdown",
      "source": [
        "Haz doble click <b>aquí</b> para ver la solución.\n",
        "<!-- Your answer is below:\n",
        "print(E[::2])\n",
        "-->"
      ],
      "metadata": {
        "application/vnd.databricks.v1+cell": {
          "title": "",
          "showTitle": false,
          "inputWidgets": {},
          "nuid": "4e105545-8319-47d1-922f-eac36fe75143"
        },
        "id": "fauXa_bZJHQv"
      }
    },
    {
      "cell_type": "markdown",
      "source": [
        "Imprime una barra invertida:"
      ],
      "metadata": {
        "application/vnd.databricks.v1+cell": {
          "title": "",
          "showTitle": false,
          "inputWidgets": {},
          "nuid": "2169c64c-7206-4937-a581-0526a875b9d9"
        },
        "id": "PfUK5Jt2JHQv"
      }
    },
    {
      "cell_type": "code",
      "source": [
        "# Escribe abajo tu código y presiona Shift+Enter para ejecutarlo\n",
        "print(r\"/\")"
      ],
      "metadata": {
        "application/vnd.databricks.v1+cell": {
          "title": "",
          "showTitle": false,
          "inputWidgets": {},
          "nuid": "87af61d8-086c-4ca5-8684-c5573bac909c"
        },
        "colab": {
          "base_uri": "https://localhost:8080/"
        },
        "id": "lAHsBXKRJHQv",
        "outputId": "1cb69525-9d0e-494d-e84c-5cdfacefd730"
      },
      "outputs": [
        {
          "output_type": "stream",
          "name": "stdout",
          "text": [
            "/\n"
          ]
        }
      ],
      "execution_count": 43
    },
    {
      "cell_type": "markdown",
      "source": [
        "Haz doble click <b>aquí</b> para ver la solución.\n",
        "<!-- Your answer is below:\n",
        "print(\"\\\\\")\n",
        "or\n",
        "print(r\" \\ \")\n",
        "-->"
      ],
      "metadata": {
        "application/vnd.databricks.v1+cell": {
          "title": "",
          "showTitle": false,
          "inputWidgets": {},
          "nuid": "30b509f5-df31-4eff-8534-2604cf6405b1"
        },
        "id": "IG4BPr-hJHQv"
      }
    },
    {
      "cell_type": "markdown",
      "source": [
        "Convierte el mayúsculas el contenido de la variable <code>F</code>:"
      ],
      "metadata": {
        "application/vnd.databricks.v1+cell": {
          "title": "",
          "showTitle": false,
          "inputWidgets": {},
          "nuid": "6814f6cf-b035-4461-b318-7d7471cbcf94"
        },
        "id": "-fqeeZk_JHQv"
      }
    },
    {
      "cell_type": "code",
      "source": [
        "# Escribe abajo tu código y presiona Shift+Enter para ejecutarlo\n",
        "\n",
        "F = \"You are wrong\"\n",
        "D = F.upper()\n",
        "D"
      ],
      "metadata": {
        "application/vnd.databricks.v1+cell": {
          "title": "",
          "showTitle": false,
          "inputWidgets": {},
          "nuid": "034ad3a9-1ef9-419d-9362-8fd0286e5f47"
        },
        "colab": {
          "base_uri": "https://localhost:8080/",
          "height": 35
        },
        "id": "gXeXFsneJHQv",
        "outputId": "dbeef286-ed0a-4faf-c786-6203be1f1eac"
      },
      "outputs": [
        {
          "output_type": "execute_result",
          "data": {
            "text/plain": [
              "'YOU ARE WRONG'"
            ],
            "application/vnd.google.colaboratory.intrinsic+json": {
              "type": "string"
            }
          },
          "metadata": {},
          "execution_count": 45
        }
      ],
      "execution_count": 45
    },
    {
      "cell_type": "markdown",
      "source": [
        "Haz doble click <b>aquí</b> para ver la solución.\n",
        "\n",
        "<!-- Your answer is below:\n",
        "F.upper()\n",
        "-->"
      ],
      "metadata": {
        "application/vnd.databricks.v1+cell": {
          "title": "",
          "showTitle": false,
          "inputWidgets": {},
          "nuid": "59e29f55-1248-4d84-bcc5-e7fb01ef061f"
        },
        "id": "0dXdilQ6JHQv"
      }
    },
    {
      "cell_type": "markdown",
      "source": [
        "En la variable <code>G</code>, encuentra el primer índice de la sub-cadena <code>snow</code>:"
      ],
      "metadata": {
        "application/vnd.databricks.v1+cell": {
          "title": "",
          "showTitle": false,
          "inputWidgets": {},
          "nuid": "89af9572-7b2e-4344-b61b-e832bddb897c"
        },
        "id": "8ug0WTd6JHQv"
      }
    },
    {
      "cell_type": "code",
      "source": [
        "# Escribe abajo tu código y presiona Shift+Enter para ejecutarlo\n",
        "\n",
        "G = \"Mary had a little lamb Little lamb, little lamb Mary had a little lamb \\\n",
        "Its fleece was white as snow And everywhere that Mary went Mary went, Mary went \\\n",
        "Everywhere that Mary went The lamb was sure to go\"\n",
        "G.find(\"snow\")"
      ],
      "metadata": {
        "application/vnd.databricks.v1+cell": {
          "title": "",
          "showTitle": false,
          "inputWidgets": {},
          "nuid": "721a128c-d297-4149-bbdd-646140d2dd59"
        },
        "colab": {
          "base_uri": "https://localhost:8080/"
        },
        "id": "CFxNX97vJHQv",
        "outputId": "0a805fcc-f907-4f46-fe49-11cac3bdb79e"
      },
      "outputs": [
        {
          "output_type": "execute_result",
          "data": {
            "text/plain": [
              "95"
            ]
          },
          "metadata": {},
          "execution_count": 46
        }
      ],
      "execution_count": 46
    },
    {
      "cell_type": "markdown",
      "source": [
        "Haz doble click <b>aquí</b> para ver la solución.\n",
        "\n",
        "<!-- Your answer is below:\n",
        "G.find(\"snow\")\n",
        "-->"
      ],
      "metadata": {
        "application/vnd.databricks.v1+cell": {
          "title": "",
          "showTitle": false,
          "inputWidgets": {},
          "nuid": "09d9aaf0-769c-4a99-b68f-79d063bc676c"
        },
        "id": "2i3W2aeHJHQv"
      }
    },
    {
      "cell_type": "markdown",
      "source": [
        "En la variable <code>G</code>, reemplaza la sub-cadena <code>Mary</code> con <code>Bob</code>:"
      ],
      "metadata": {
        "application/vnd.databricks.v1+cell": {
          "title": "",
          "showTitle": false,
          "inputWidgets": {},
          "nuid": "157b212b-6b79-4fe4-9284-f9e0e1f3dcd1"
        },
        "id": "pPWgp_KRJHQv"
      }
    },
    {
      "cell_type": "code",
      "source": [
        "# Escribe abajo tu código y presiona Shift+Enter para ejecutarlo\n",
        "D = G.replace(\"Mary\", \"Bob\")\n",
        "D"
      ],
      "metadata": {
        "application/vnd.databricks.v1+cell": {
          "title": "",
          "showTitle": false,
          "inputWidgets": {},
          "nuid": "ea8ee7aa-cedd-40c2-8d01-35f09d62109d"
        },
        "colab": {
          "base_uri": "https://localhost:8080/",
          "height": 35
        },
        "id": "9JlLqqhwJHQw",
        "outputId": "db3d7b2c-736f-4a71-809d-689ebb86c3e3"
      },
      "outputs": [
        {
          "output_type": "execute_result",
          "data": {
            "text/plain": [
              "'Bob had a little lamb Little lamb, little lamb Bob had a little lamb Its fleece was white as snow And everywhere that Bob went Bob went, Bob went Everywhere that Bob went The lamb was sure to go'"
            ],
            "application/vnd.google.colaboratory.intrinsic+json": {
              "type": "string"
            }
          },
          "metadata": {},
          "execution_count": 50
        }
      ],
      "execution_count": 50
    },
    {
      "cell_type": "markdown",
      "source": [
        "Haz doble click <b>aquí</b> para ver la solución.\n",
        "\n",
        "<!-- Your answer is below:\n",
        "G.replace(\"Mary\", \"Bob\")\n",
        "-->"
      ],
      "metadata": {
        "application/vnd.databricks.v1+cell": {
          "title": "",
          "showTitle": false,
          "inputWidgets": {},
          "nuid": "514790a0-22d4-4593-9c3a-09f88054b89e"
        },
        "id": "fXLi5-O6JHQw"
      }
    }
  ],
  "metadata": {
    "kernelspec": {
      "display_name": "Python 3",
      "language": "python",
      "name": "python3"
    },
    "language_info": {
      "mimetype": "text/x-python",
      "name": "python",
      "pygments_lexer": "ipython3",
      "codemirror_mode": {
        "name": "ipython",
        "version": 3
      },
      "version": "3.8.3",
      "nbconvert_exporter": "python",
      "file_extension": ".py"
    },
    "application/vnd.databricks.v1+notebook": {
      "notebookName": "01-Python-Cadenas",
      "dashboards": [],
      "notebookMetadata": {
        "pythonIndentUnit": 2
      },
      "language": "python",
      "widgets": {},
      "notebookOrigID": 3377342904741170
    },
    "colab": {
      "provenance": []
    }
  },
  "nbformat": 4,
  "nbformat_minor": 0
}