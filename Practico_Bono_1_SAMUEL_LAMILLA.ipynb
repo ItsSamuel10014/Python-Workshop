{
  "cells": [
    {
      "cell_type": "markdown",
      "metadata": {
        "id": "view-in-github",
        "colab_type": "text"
      },
      "source": [
        "<a href=\"https://colab.research.google.com/github/ItsSamuel10014/Python-Workshop/blob/main/Practico_Bono_1_SAMUEL_LAMILLA.ipynb\" target=\"_parent\"><img src=\"https://colab.research.google.com/assets/colab-badge.svg\" alt=\"Open In Colab\"/></a>"
      ]
    },
    {
      "cell_type": "markdown",
      "metadata": {
        "id": "dkfTfb7kKfO8"
      },
      "source": [
        "## CALENTAMIENTO:"
      ]
    },
    {
      "cell_type": "markdown",
      "metadata": {
        "id": "jKNiFouRKfO8"
      },
      "source": [
        "#### MENOR DE DOS PARES: Escriba una función que devuelva el menor de dos números dados *si* ambos números son pares, pero devuelva el mayor si uno o ambos números son impares\n",
        "    lesser_of_two_evens(2,4) --> 2\n",
        "    lesser_of_two_evens(2,5) --> 5"
      ]
    },
    {
      "cell_type": "code",
      "source": [
        "import math"
      ],
      "metadata": {
        "id": "L1s7z5KIwN6N"
      },
      "execution_count": 25,
      "outputs": []
    },
    {
      "cell_type": "code",
      "execution_count": 43,
      "metadata": {
        "id": "HF8_a_2IKfO8",
        "colab": {
          "base_uri": "https://localhost:8080/"
        },
        "outputId": "6221a680-cba4-4678-f7d4-2442d65c370f"
      },
      "outputs": [
        {
          "output_type": "stream",
          "name": "stdout",
          "text": [
            "Ingrese un número: 20\n",
            "Ingrese un número: 32\n",
            "20\n"
          ]
        }
      ],
      "source": [
        "def lesser_of_two_evens(a,b):\n",
        "  if a % 2 == 0 and b % 2 == 0:\n",
        "    return min(a,b)\n",
        "  else:\n",
        "    return max(a,b)\n",
        "\n",
        "\n",
        "a = int(input(\"Ingrese un número: \"))\n",
        "b = int(input(\"Ingrese un número: \"))\n",
        "print(lesser_of_two_evens(a,b))\n",
        "\n",
        "\n",
        ""
      ]
    },
    {
      "cell_type": "code",
      "execution_count": 45,
      "metadata": {
        "id": "fOv0K9mXKfO9",
        "outputId": "670fd597-eab7-4c6c-95f5-00b688e3ba3a",
        "colab": {
          "base_uri": "https://localhost:8080/"
        }
      },
      "outputs": [
        {
          "output_type": "execute_result",
          "data": {
            "text/plain": [
              "2"
            ]
          },
          "metadata": {},
          "execution_count": 45
        }
      ],
      "source": [
        "# Revisión\n",
        "lesser_of_two_evens(2,4)"
      ]
    },
    {
      "cell_type": "code",
      "execution_count": 46,
      "metadata": {
        "id": "UMKYl4NgKfO-",
        "outputId": "fa93d182-186c-4aa5-f178-4c5e6e65b4ad",
        "colab": {
          "base_uri": "https://localhost:8080/"
        }
      },
      "outputs": [
        {
          "output_type": "execute_result",
          "data": {
            "text/plain": [
              "5"
            ]
          },
          "metadata": {},
          "execution_count": 46
        }
      ],
      "source": [
        "# Revisión\n",
        "lesser_of_two_evens(2,5)"
      ]
    },
    {
      "cell_type": "markdown",
      "metadata": {
        "id": "ZdEE37WBKfO-"
      },
      "source": [
        "#### GALLETAS DE ANIMALES: Escribir una función que toma una cadena de dos palabras y devuelve True si ambas palabras comienzan con la misma letra\n",
        "    animal_crackers('Ciudad Calor') --> True\n",
        "    animal_crackers('Lugar Frio') --> False"
      ]
    },
    {
      "cell_type": "code",
      "execution_count": 48,
      "metadata": {
        "id": "6JEJK4lcKfO_",
        "colab": {
          "base_uri": "https://localhost:8080/"
        },
        "outputId": "ad700679-4667-46b4-eb44-4a729628fd33"
      },
      "outputs": [
        {
          "output_type": "stream",
          "name": "stdout",
          "text": [
            "Ingrese una frase: carlos chester\n",
            "True\n"
          ]
        }
      ],
      "source": [
        "def animal_crackers(text):\n",
        "  palabras = text.split()\n",
        "  if palabras[0][0] == palabras[1][0]:\n",
        "    return True\n",
        "  else:\n",
        "    return False\n",
        "\n",
        "text = input(\"Ingrese una frase: \")\n",
        "print(animal_crackers(text))"
      ]
    },
    {
      "cell_type": "code",
      "execution_count": 49,
      "metadata": {
        "id": "RZp5N4-6KfO_",
        "outputId": "5b706879-f5cb-4dbf-e6b6-55f50694e96c",
        "colab": {
          "base_uri": "https://localhost:8080/"
        }
      },
      "outputs": [
        {
          "output_type": "execute_result",
          "data": {
            "text/plain": [
              "True"
            ]
          },
          "metadata": {},
          "execution_count": 49
        }
      ],
      "source": [
        "# Revisión\n",
        "animal_crackers('Ciudad Calor')"
      ]
    },
    {
      "cell_type": "code",
      "execution_count": 50,
      "metadata": {
        "id": "zaGYt5L8KfO_",
        "outputId": "acf07091-4d51-4f75-feaf-8c3af73fcfa7",
        "colab": {
          "base_uri": "https://localhost:8080/"
        }
      },
      "outputs": [
        {
          "output_type": "execute_result",
          "data": {
            "text/plain": [
              "False"
            ]
          },
          "metadata": {},
          "execution_count": 50
        }
      ],
      "source": [
        "# Revisión\n",
        "animal_crackers('Lugar Frio')"
      ]
    },
    {
      "cell_type": "markdown",
      "metadata": {
        "id": "Xln0rzZ3KfPA"
      },
      "source": [
        "#### HACE VEINTE: dados dos enteros, devuelve True si la suma de los enteros es 20 o si uno de los enteros es 20. De lo contrario, devuelve False\n",
        "\n",
        "    makes_twenty(20,10) --> True\n",
        "    makes_twenty(12,8) --> True\n",
        "    makes_twenty(2,3) --> False"
      ]
    },
    {
      "cell_type": "code",
      "execution_count": 53,
      "metadata": {
        "id": "wBbR7Xx_KfPA",
        "colab": {
          "base_uri": "https://localhost:8080/"
        },
        "outputId": "b6a2de9a-f75b-4686-e323-357d95ccf7c8"
      },
      "outputs": [
        {
          "output_type": "stream",
          "name": "stdout",
          "text": [
            "Ingrese un número: 9\n",
            "Ingrese un número: 11\n",
            "True\n"
          ]
        }
      ],
      "source": [
        "from re import S\n",
        "def makes_twenty(n1,n2):\n",
        "  if n1 == 20 or n2 == 20 or n1 + n2 == 20:\n",
        "    return True\n",
        "  else:\n",
        "    return False\n",
        "\n",
        "n1 = int(input(\"Ingrese un número: \"))\n",
        "n2 = int(input(\"Ingrese un número: \"))\n",
        "print(makes_twenty(n1,n2))"
      ]
    },
    {
      "cell_type": "code",
      "execution_count": 54,
      "metadata": {
        "id": "6jHiJxnwKfPA",
        "outputId": "fef47267-8d60-42c4-9a1a-a677f03909bb",
        "colab": {
          "base_uri": "https://localhost:8080/"
        }
      },
      "outputs": [
        {
          "output_type": "execute_result",
          "data": {
            "text/plain": [
              "True"
            ]
          },
          "metadata": {},
          "execution_count": 54
        }
      ],
      "source": [
        "# Revisión\n",
        "makes_twenty(20,10)"
      ]
    },
    {
      "cell_type": "code",
      "execution_count": 55,
      "metadata": {
        "id": "zZIdlGLeKfPA",
        "outputId": "6f974236-80cb-486d-fc3a-3074cfd0adb8",
        "colab": {
          "base_uri": "https://localhost:8080/"
        }
      },
      "outputs": [
        {
          "output_type": "execute_result",
          "data": {
            "text/plain": [
              "False"
            ]
          },
          "metadata": {},
          "execution_count": 55
        }
      ],
      "source": [
        "# Revisión\n",
        "makes_twenty(2,3)"
      ]
    },
    {
      "cell_type": "code",
      "execution_count": 56,
      "metadata": {
        "id": "BlJKTZX9KfPA",
        "outputId": "6b7d3922-fd34-443c-944f-5339e760f35a",
        "colab": {
          "base_uri": "https://localhost:8080/"
        }
      },
      "outputs": [
        {
          "output_type": "execute_result",
          "data": {
            "text/plain": [
              "True"
            ]
          },
          "metadata": {},
          "execution_count": 56
        }
      ],
      "source": [
        "makes_twenty(12,8)"
      ]
    },
    {
      "cell_type": "markdown",
      "metadata": {
        "id": "d3Fka2vRKfPB"
      },
      "source": [
        "# Nivel 1"
      ]
    },
    {
      "cell_type": "markdown",
      "metadata": {
        "id": "H_e_DMbnKfPB"
      },
      "source": [
        "#### MAYÚSCULAS: Escribir una función que haga mayúscula la primera y cuarta letra de una cadena de texto\n",
        "     \n",
        "    old_macdonald('macdonald') --> MacDonald\n",
        "    \n",
        "Note: `'macdonald'.capitalize()` returns `'Macdonald'`"
      ]
    },
    {
      "cell_type": "code",
      "execution_count": 60,
      "metadata": {
        "id": "ZiXJrY8uKfPB",
        "colab": {
          "base_uri": "https://localhost:8080/"
        },
        "outputId": "0b30da78-9f9f-4ff8-a96c-7ea60d693f73"
      },
      "outputs": [
        {
          "output_type": "stream",
          "name": "stdout",
          "text": [
            "Ingrese un nombre: hola\n",
            "HolA\n"
          ]
        }
      ],
      "source": [
        "def old_macdonald(name):\n",
        "  if len(name) > 3:\n",
        "    return name[:3].capitalize() + name[3:].capitalize()\n",
        "  else:\n",
        "    return 'Nombre muy corto'\n",
        "\n",
        "name = input(\"Ingrese un nombre: \")\n",
        "print(old_macdonald(name))\n"
      ]
    },
    {
      "cell_type": "code",
      "execution_count": 61,
      "metadata": {
        "id": "wtu_baYIKfPB",
        "outputId": "b4c2d574-90f7-434c-9040-b88651677801",
        "colab": {
          "base_uri": "https://localhost:8080/",
          "height": 35
        }
      },
      "outputs": [
        {
          "output_type": "execute_result",
          "data": {
            "text/plain": [
              "'MacDonald'"
            ],
            "application/vnd.google.colaboratory.intrinsic+json": {
              "type": "string"
            }
          },
          "metadata": {},
          "execution_count": 61
        }
      ],
      "source": [
        "# Check\n",
        "old_macdonald('macdonald')"
      ]
    },
    {
      "cell_type": "markdown",
      "metadata": {
        "id": "E24LlJo1KfPC"
      },
      "source": [
        "#### REVERSA: Dada una oración, retornar la misma oración pero en reversa\n",
        "\n",
        "    master_yoda('I am home') --> 'home am I'\n",
        "    master_yoda('We are ready') --> 'ready are We'\n",
        "    \n",
        "Note: Revisar método .join()\n",
        "\n",
        "    >>> \"--\".join(['a','b','c'])\n",
        "    >>> 'a--b--c'\n",
        "\n",
        "Resultado de .join():\n",
        "\n",
        "    >>> \" \".join(['Hello','world'])\n",
        "    >>> \"Hello world\""
      ]
    },
    {
      "cell_type": "code",
      "execution_count": 63,
      "metadata": {
        "id": "6K4nw15nKfPC",
        "colab": {
          "base_uri": "https://localhost:8080/"
        },
        "outputId": "1b51018a-a38d-4251-ef0e-f37aa6c479c1"
      },
      "outputs": [
        {
          "output_type": "stream",
          "name": "stdout",
          "text": [
            "Ingrese una frase: hola mi nombre es mariuo\n",
            "mariuo es nombre mi hola\n"
          ]
        }
      ],
      "source": [
        "def master_yoda(text):\n",
        "\n",
        "  text = text.split()\n",
        "  text.reverse()\n",
        "  return \" \".join(text)\n",
        "\n",
        "text = input(\"Ingrese una frase: \")\n",
        "print(master_yoda(text))\n"
      ]
    },
    {
      "cell_type": "code",
      "execution_count": 66,
      "metadata": {
        "id": "BXdDWf0BKfPC"
      },
      "outputs": [],
      "source": [
        "######"
      ]
    },
    {
      "cell_type": "code",
      "execution_count": 68,
      "metadata": {
        "id": "2DqSErszKfPD",
        "outputId": "3e0ef21c-1f37-4831-fbf8-af97966e2ac8",
        "colab": {
          "base_uri": "https://localhost:8080/",
          "height": 35
        }
      },
      "outputs": [
        {
          "output_type": "execute_result",
          "data": {
            "text/plain": [
              "'home am I'"
            ],
            "application/vnd.google.colaboratory.intrinsic+json": {
              "type": "string"
            }
          },
          "metadata": {},
          "execution_count": 68
        }
      ],
      "source": [
        "# Revisión\n",
        "master_yoda('I am home')"
      ]
    },
    {
      "cell_type": "code",
      "execution_count": 67,
      "metadata": {
        "id": "efa9vdLSKfPD",
        "outputId": "ddfa54ed-db14-4504-cc16-6fd2796e2c64",
        "colab": {
          "base_uri": "https://localhost:8080/",
          "height": 35
        }
      },
      "outputs": [
        {
          "output_type": "execute_result",
          "data": {
            "text/plain": [
              "'ready are We'"
            ],
            "application/vnd.google.colaboratory.intrinsic+json": {
              "type": "string"
            }
          },
          "metadata": {},
          "execution_count": 67
        }
      ],
      "source": [
        "# Revisión\n",
        "master_yoda('We are ready')"
      ]
    },
    {
      "cell_type": "markdown",
      "metadata": {
        "id": "9jquqRm7KfPE"
      },
      "source": [
        "# Nivel 2"
      ]
    },
    {
      "cell_type": "markdown",
      "metadata": {
        "id": "S5V3SVDGKfPE"
      },
      "source": [
        "#### PROBLEMA 33:\n",
        "\n",
        "Dada una lista de enteros, retornar True si el arreglo tinene un  3  seguido por un  3 .\n",
        "\n",
        "    has_33([1, 3, 3]) → True\n",
        "    has_33([1, 3, 1, 3]) → False\n",
        "    has_33([3, 1, 3]) → False"
      ]
    },
    {
      "cell_type": "code",
      "execution_count": 91,
      "metadata": {
        "id": "9eU2-UZvKfPE"
      },
      "outputs": [],
      "source": [
        "def has_33(nums):\n",
        "  for i in range(0, len(nums)-1):\n",
        "    if nums[i] == 3 and nums[i+1] == 3:\n",
        "      return True\n",
        "  return False"
      ]
    },
    {
      "cell_type": "code",
      "execution_count": 92,
      "metadata": {
        "id": "Yca9X7MAKfPE",
        "outputId": "47a3dc13-2b65-4346-b925-d507154a46c8",
        "colab": {
          "base_uri": "https://localhost:8080/"
        }
      },
      "outputs": [
        {
          "output_type": "execute_result",
          "data": {
            "text/plain": [
              "True"
            ]
          },
          "metadata": {},
          "execution_count": 92
        }
      ],
      "source": [
        "# Revisión\n",
        "has_33([1, 3, 3])"
      ]
    },
    {
      "cell_type": "code",
      "execution_count": 93,
      "metadata": {
        "id": "XSw1ml9dKfPE",
        "outputId": "4887ee08-4c36-4593-86c7-62f7349b8e42",
        "colab": {
          "base_uri": "https://localhost:8080/"
        }
      },
      "outputs": [
        {
          "output_type": "execute_result",
          "data": {
            "text/plain": [
              "False"
            ]
          },
          "metadata": {},
          "execution_count": 93
        }
      ],
      "source": [
        "# Revisión\n",
        "has_33([1, 3, 1, 3])"
      ]
    },
    {
      "cell_type": "code",
      "execution_count": 94,
      "metadata": {
        "id": "ZKcJgxc5KfPF",
        "outputId": "9ad90d85-7650-459d-d5b8-26c8863fd8a7",
        "colab": {
          "base_uri": "https://localhost:8080/"
        }
      },
      "outputs": [
        {
          "output_type": "execute_result",
          "data": {
            "text/plain": [
              "False"
            ]
          },
          "metadata": {},
          "execution_count": 94
        }
      ],
      "source": [
        "# Revisión\n",
        "has_33([3, 1, 3])"
      ]
    },
    {
      "cell_type": "markdown",
      "metadata": {
        "id": "n-Vj63BpKfPF"
      },
      "source": [
        "#### REPLICADOR: Dada una cadena, devuelve una cadena donde por cada carácter en el original hay tres caracteres REPETIDOS\n",
        "    paper_doll('Hello') --> 'HHHeeellllllooo'\n",
        "    paper_doll('Mississippi') --> 'MMMiiissssssiiippppppiii'"
      ]
    },
    {
      "cell_type": "code",
      "execution_count": 96,
      "metadata": {
        "id": "F6ivbyiXKfPF"
      },
      "outputs": [],
      "source": [
        "def paper_doll(text):\n",
        "  text=list(text)\n",
        "  for i in range(len(text)):\n",
        "    text[i]=text[i]*3\n",
        "  return \"\".join(text)"
      ]
    },
    {
      "cell_type": "code",
      "execution_count": 97,
      "metadata": {
        "id": "h330yUbKKfPF",
        "outputId": "61194121-ad13-4889-ed7b-d8301d36d034",
        "colab": {
          "base_uri": "https://localhost:8080/",
          "height": 35
        }
      },
      "outputs": [
        {
          "output_type": "execute_result",
          "data": {
            "text/plain": [
              "'HHHeeellllllooo'"
            ],
            "application/vnd.google.colaboratory.intrinsic+json": {
              "type": "string"
            }
          },
          "metadata": {},
          "execution_count": 97
        }
      ],
      "source": [
        "# Check\n",
        "paper_doll('Hello')"
      ]
    },
    {
      "cell_type": "code",
      "execution_count": 98,
      "metadata": {
        "id": "sZTw8FlZKfPF",
        "outputId": "22f53ce4-2932-4056-8eb5-98f52c6b2ec7",
        "colab": {
          "base_uri": "https://localhost:8080/",
          "height": 35
        }
      },
      "outputs": [
        {
          "output_type": "execute_result",
          "data": {
            "text/plain": [
              "'MMMiiissssssiiissssssiiippppppiii'"
            ],
            "application/vnd.google.colaboratory.intrinsic+json": {
              "type": "string"
            }
          },
          "metadata": {},
          "execution_count": 98
        }
      ],
      "source": [
        "# Check\n",
        "paper_doll('Mississippi')"
      ]
    },
    {
      "cell_type": "markdown",
      "metadata": {
        "id": "OJfMlQRcKfPF"
      },
      "source": [
        "#### BLACKJACK: Dados tres enteros entre 1 y 11, si su suma es menor o igual a 21, devuelve su suma. Si su suma excede 21 *y* hay un once, reduce la suma total en 10. Finalmente, si la suma (incluso después del ajuste) excede 21, devuelve 'BUST'\n",
        "    blackjack(5,6,7) --> 18\n",
        "    blackjack(9,9,9) --> 'BUST'\n",
        "    blackjack(9,9,11) --> 19"
      ]
    },
    {
      "cell_type": "code",
      "execution_count": 112,
      "metadata": {
        "id": "REJRcYJmKfPF"
      },
      "outputs": [],
      "source": [
        "def blackjack(a,b,c):\n",
        "  if a + b + c <= 21:\n",
        "    return a + b + c\n",
        "  elif a == 11 or b == 11 or c == 11:\n",
        "    return a + b + c - 10\n",
        "    if a + b + c - 10 > 21:\n",
        "      return 'BUST'\n",
        "  else:\n",
        "    return 'BUST'"
      ]
    },
    {
      "cell_type": "code",
      "execution_count": 113,
      "metadata": {
        "id": "D_sHnddYKfPF",
        "outputId": "643c8dc3-61c1-4ec5-dcd0-3279a2c42d6f",
        "colab": {
          "base_uri": "https://localhost:8080/"
        }
      },
      "outputs": [
        {
          "output_type": "execute_result",
          "data": {
            "text/plain": [
              "18"
            ]
          },
          "metadata": {},
          "execution_count": 113
        }
      ],
      "source": [
        "# Revisión\n",
        "blackjack(5,6,7)"
      ]
    },
    {
      "cell_type": "code",
      "execution_count": 114,
      "metadata": {
        "id": "y0713b36KfPF",
        "outputId": "a2d0f642-ef6e-4e95-c1c8-bba5297b8b1d",
        "colab": {
          "base_uri": "https://localhost:8080/",
          "height": 35
        }
      },
      "outputs": [
        {
          "output_type": "execute_result",
          "data": {
            "text/plain": [
              "'BUST'"
            ],
            "application/vnd.google.colaboratory.intrinsic+json": {
              "type": "string"
            }
          },
          "metadata": {},
          "execution_count": 114
        }
      ],
      "source": [
        "# Revisión\n",
        "blackjack(9,9,9)"
      ]
    },
    {
      "cell_type": "code",
      "execution_count": 115,
      "metadata": {
        "id": "6eijyrH-KfPG",
        "outputId": "a4bfd5bf-fc78-4a00-e61b-e440135b6ddc",
        "colab": {
          "base_uri": "https://localhost:8080/"
        }
      },
      "outputs": [
        {
          "output_type": "execute_result",
          "data": {
            "text/plain": [
              "19"
            ]
          },
          "metadata": {},
          "execution_count": 115
        }
      ],
      "source": [
        "# Revisión\n",
        "blackjack(9,9,11)"
      ]
    },
    {
      "cell_type": "markdown",
      "metadata": {
        "id": "6S22_l6xKfPI"
      },
      "source": [
        "## Suerte!"
      ]
    }
  ],
  "metadata": {
    "kernelspec": {
      "display_name": "Python 3 (ipykernel)",
      "language": "python",
      "name": "python3"
    },
    "language_info": {
      "codemirror_mode": {
        "name": "ipython",
        "version": 3
      },
      "file_extension": ".py",
      "mimetype": "text/x-python",
      "name": "python",
      "nbconvert_exporter": "python",
      "pygments_lexer": "ipython3",
      "version": "3.10.4"
    },
    "colab": {
      "provenance": [],
      "include_colab_link": true
    }
  },
  "nbformat": 4,
  "nbformat_minor": 0
}