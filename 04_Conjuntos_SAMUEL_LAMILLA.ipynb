{
  "cells": [
    {
      "cell_type": "markdown",
      "metadata": {
        "id": "view-in-github",
        "colab_type": "text"
      },
      "source": [
        "<a href=\"https://colab.research.google.com/github/ItsSamuel10014/Python-Workshop/blob/main/04_Conjuntos_SAMUEL_LAMILLA.ipynb\" target=\"_parent\"><img src=\"https://colab.research.google.com/assets/colab-badge.svg\" alt=\"Open In Colab\"/></a>"
      ]
    },
    {
      "cell_type": "markdown",
      "source": [
        "<h1>Procesamiento de Datos a Gran Escala</h1>"
      ],
      "metadata": {
        "application/vnd.databricks.v1+cell": {
          "title": "",
          "showTitle": false,
          "inputWidgets": {},
          "nuid": "65c3d562-8f12-4b16-b6f3-cb3ff1bdcde4"
        },
        "id": "cai5SXSbTflh"
      }
    },
    {
      "cell_type": "markdown",
      "source": [
        "# **SAMUEL ANDRES LAMILLA VERJAN**\n",
        "\n",
        "# 1077224135"
        "\n",
        "# Estudiante de ciencia de datos en la Pontificia Universidad Javeriana",
        "\n",
        "# Bogotá"
      ],
      "metadata": {
        "id": "AJHrxzFPJIW9"
      }
    },
    {
      "cell_type": "markdown",
      "source": [
        "<h2>Conjuntos en Python</h2>"
      ],
      "metadata": {
        "application/vnd.databricks.v1+cell": {
          "title": "",
          "showTitle": false,
          "inputWidgets": {},
          "nuid": "4182cfaa-6acc-4585-a8ae-901617e5c908"
        },
        "id": "5_RSa-_9Tfli"
      }
    },
    {
      "cell_type": "markdown",
      "source": [
        "<p><strong>¡Bienvenido!</strong> En este cuaderno aprenderás acerca del uso de conjuntos con el Lenguaje de Programación Python. Al final del laboratorio, sabrás lo básico sobre operaciones con conjuntos, adema de qué son, y las operaciones lógicas que puedes hacer con ellos.</p>"
      ],
      "metadata": {
        "application/vnd.databricks.v1+cell": {
          "title": "",
          "showTitle": false,
          "inputWidgets": {},
          "nuid": "da70c336-dee2-4ba5-9f4a-35b4ea98fe2c"
        },
        "id": "P6HPQH0nTfli"
      }
    },
    {
      "cell_type": "markdown",
      "source": [
        "<h2>Tabla de Contenido</h2>\n",
        "<div class=\"alert alert-block alert-info\" style=\"margin-top: 20px\">\n",
        "    <ul>\n",
        "        <li>\n",
        "            <a href=\"#set\">Conjuntos</a>\n",
        "            <ul>\n",
        "                <li><a href=\"content\">Contenido de un Conjunto</a></li>\n",
        "                <li><a href=\"op\">Operaciones con Conjuntos</a></li>\n",
        "                <li><a href=\"logic\">Operacion Lógicas con Conjuntos</a></li>\n",
        "            </ul>\n",
        "        </li>\n",
        "        <li>\n",
        "            <a href=\"#quiz\">Cuestionario sobre conjuntos</a>\n",
        "        </li>\n",
        "    </ul>\n",
        "    <p>\n",
        "        Tiempo Estimado: <strong>20 min</strong>\n",
        "    </p>\n",
        "</div>\n",
        "\n",
        "<hr>"
      ],
      "metadata": {
        "application/vnd.databricks.v1+cell": {
          "title": "",
          "showTitle": false,
          "inputWidgets": {},
          "nuid": "0e159791-cf95-4e09-a881-de7f5f09c12c"
        },
        "id": "vxNxOvWXTfli"
      }
    },
    {
      "cell_type": "markdown",
      "source": [
        "<h2 id=\"set\">Conjuntos</h2>"
      ],
      "metadata": {
        "application/vnd.databricks.v1+cell": {
          "title": "",
          "showTitle": false,
          "inputWidgets": {},
          "nuid": "d31d7190-d92b-4fb3-b1aa-46f07e6fddac"
        },
        "id": "EW3bKL5vTfli"
      }
    },
    {
      "cell_type": "markdown",
      "source": [
        "<h3 id=\"content\">Contenido de un Conjunto</h3>"
      ],
      "metadata": {
        "application/vnd.databricks.v1+cell": {
          "title": "",
          "showTitle": false,
          "inputWidgets": {},
          "nuid": "5f3c8d3b-651d-429e-ae54-69d566048296"
        },
        "id": "yjXLWNcZTfli"
      }
    },
    {
      "cell_type": "markdown",
      "source": [
        "Un conjunto es una colección de objetos únicos en Python. Un conjunto se define usando llaves de apertura y cierre <b>{}</b>. Python removerá automáticamente elementos duplicados."
      ],
      "metadata": {
        "application/vnd.databricks.v1+cell": {
          "title": "",
          "showTitle": false,
          "inputWidgets": {},
          "nuid": "ee569271-f4ad-4326-bd54-f859b3808514"
        },
        "id": "sooe7jtoTfli"
      }
    },
    {
      "cell_type": "code",
      "source": [
        "# Crear un conjunto\n",
        "\n",
        "set1 = {\"pop\", \"rock\", \"soul\", \"hard rock\", \"rock\", \"R&B\", \"rock\", \"disco\"}\n",
        "set1"
      ],
      "metadata": {
        "application/vnd.databricks.v1+cell": {
          "title": "",
          "showTitle": false,
          "inputWidgets": {},
          "nuid": "eed936cb-a07f-430a-8a62-efc6a522001c"
        },
        "colab": {
          "base_uri": "https://localhost:8080/"
        },
        "id": "li1CDUvZTfli",
        "outputId": "9a99ea99-cf86-4e48-eac0-639986efc0f9"
      },
      "outputs": [
        {
          "output_type": "execute_result",
          "data": {
            "text/plain": [
              "{'R&B', 'disco', 'hard rock', 'pop', 'rock', 'soul'}"
            ]
          },
          "metadata": {},
          "execution_count": 1
        }
      ],
      "execution_count": 1
    },
    {
      "cell_type": "markdown",
      "source": [
        "El proceso de mapeado se muestra en la siguiente figura:"
      ],
      "metadata": {
        "application/vnd.databricks.v1+cell": {
          "title": "",
          "showTitle": false,
          "inputWidgets": {},
          "nuid": "d63cd755-204f-4266-8279-924ead0cead9"
        },
        "id": "4A_izn5dTflj"
      }
    },
    {
      "cell_type": "markdown",
      "source": [
        "<img src=\"https://s3-api.us-geo.objectstorage.softlayer.net/cf-courses-data/CognitiveClass/PY0101EN/Chapter%202/Images/SetsUnique.png\" width=\"1100\" />"
      ],
      "metadata": {
        "application/vnd.databricks.v1+cell": {
          "title": "",
          "showTitle": false,
          "inputWidgets": {},
          "nuid": "8f17cf2e-5206-4372-ae1c-947bbda18b19"
        },
        "id": "7713XqYyTflj"
      }
    },
    {
      "cell_type": "markdown",
      "source": [
        "También se puede crear un conjunto a partir de una lista:"
      ],
      "metadata": {
        "application/vnd.databricks.v1+cell": {
          "title": "",
          "showTitle": false,
          "inputWidgets": {},
          "nuid": "1c7b5d30-5ec1-46d7-910b-11c0eeea2166"
        },
        "id": "bMsfEffdTflj"
      }
    },
    {
      "cell_type": "code",
      "source": [
        "# Convertir una lista en un conjunto\n",
        "\n",
        "album_list = [ \"Michael Jackson\", \"Thriller\", 1982, \"00:42:19\", \\\n",
        "              \"Pop, Rock, R&B\", 46.0, 65, \"30-Nov-82\", None, 10.0]\n",
        "album_set = set(album_list)\n",
        "album_set"
      ],
      "metadata": {
        "scrolled": true,
        "application/vnd.databricks.v1+cell": {
          "title": "",
          "showTitle": false,
          "inputWidgets": {},
          "nuid": "b50e128e-0bee-4451-9edd-910e50381125"
        },
        "colab": {
          "base_uri": "https://localhost:8080/"
        },
        "id": "vmSBtbF0Tflj",
        "outputId": "da8ff0b3-2be1-4f27-9454-fbeb34d237ff"
      },
      "outputs": [
        {
          "output_type": "execute_result",
          "data": {
            "text/plain": [
              "{'00:42:19',\n",
              " 10.0,\n",
              " 1982,\n",
              " '30-Nov-82',\n",
              " 46.0,\n",
              " 65,\n",
              " 'Michael Jackson',\n",
              " None,\n",
              " 'Pop, Rock, R&B',\n",
              " 'Thriller'}"
            ]
          },
          "metadata": {},
          "execution_count": 2
        }
      ],
      "execution_count": 2
    },
    {
      "cell_type": "markdown",
      "source": [
        "Vamos a crear un conjunto de géneros musicales:"
      ],
      "metadata": {
        "application/vnd.databricks.v1+cell": {
          "title": "",
          "showTitle": false,
          "inputWidgets": {},
          "nuid": "d348404e-048e-492c-90e6-8c4d0b5c45b5"
        },
        "id": "--XOjTqXTflj"
      }
    },
    {
      "cell_type": "code",
      "source": [
        "# Convertir una lista en un conjunto\n",
        "\n",
        "music_genres = set([\"pop\", \"pop\", \"rock\", \"folk rock\", \"hard rock\", \"soul\", \\\n",
        "                    \"progressive rock\", \"soft rock\", \"R&B\", \"disco\"])\n",
        "music_genres"
      ],
      "metadata": {
        "application/vnd.databricks.v1+cell": {
          "title": "",
          "showTitle": false,
          "inputWidgets": {},
          "nuid": "740f8ead-03ee-4bdb-8395-9c4e9b1cd181"
        },
        "colab": {
          "base_uri": "https://localhost:8080/"
        },
        "id": "I0L3hw6bTflj",
        "outputId": "abe6734d-974f-4bf9-b5c3-098f6af84267"
      },
      "outputs": [
        {
          "output_type": "execute_result",
          "data": {
            "text/plain": [
              "{'R&B',\n",
              " 'disco',\n",
              " 'folk rock',\n",
              " 'hard rock',\n",
              " 'pop',\n",
              " 'progressive rock',\n",
              " 'rock',\n",
              " 'soft rock',\n",
              " 'soul'}"
            ]
          },
          "metadata": {},
          "execution_count": 3
        }
      ],
      "execution_count": 3
    },
    {
      "cell_type": "markdown",
      "source": [
        "<h3 id=\"op\">Operaciones con Conjuntos</h3>"
      ],
      "metadata": {
        "application/vnd.databricks.v1+cell": {
          "title": "",
          "showTitle": false,
          "inputWidgets": {},
          "nuid": "e3effa51-8b0b-464a-8395-76d29ceacc7d"
        },
        "id": "tep0Fp3JTflj"
      }
    },
    {
      "cell_type": "markdown",
      "source": [
        "Vamos a revisar las operaciones con conjuntos que nos ayudaran a modificarlo. Considera el conjunto <b>A</b>:"
      ],
      "metadata": {
        "application/vnd.databricks.v1+cell": {
          "title": "",
          "showTitle": false,
          "inputWidgets": {},
          "nuid": "83497af3-8c18-4cf1-811a-4be29d6e122c"
        },
        "id": "2NmLdph9Tflj"
      }
    },
    {
      "cell_type": "code",
      "source": [
        "# Conjunto de ejemplo\n",
        "\n",
        "A = set([\"Thriller\", \"Back in Black\", \"AC/DC\"])\n",
        "A"
      ],
      "metadata": {
        "application/vnd.databricks.v1+cell": {
          "title": "",
          "showTitle": false,
          "inputWidgets": {},
          "nuid": "fd311c8e-a689-4f52-a20e-95fee3e4fede"
        },
        "colab": {
          "base_uri": "https://localhost:8080/"
        },
        "id": "c4FpvNBcTflj",
        "outputId": "3651fded-c92e-4ad5-ff88-57bead82f627"
      },
      "outputs": [
        {
          "output_type": "execute_result",
          "data": {
            "text/plain": [
              "{'AC/DC', 'Back in Black', 'Thriller'}"
            ]
          },
          "metadata": {},
          "execution_count": 4
        }
      ],
      "execution_count": 4
    },
    {
      "cell_type": "markdown",
      "source": [
        "Podemos agregar un elemento al conjunto mediante el método <code>add()</code>:"
      ],
      "metadata": {
        "application/vnd.databricks.v1+cell": {
          "title": "",
          "showTitle": false,
          "inputWidgets": {},
          "nuid": "3c99d89f-0876-4608-b2e1-5a84b2ec95ab"
        },
        "id": "eJNw9hrVTflj"
      }
    },
    {
      "cell_type": "code",
      "source": [
        "# Agregar un elemento al conjunto\n",
        "\n",
        "A.add(\"NSYNC\")\n",
        "A"
      ],
      "metadata": {
        "application/vnd.databricks.v1+cell": {
          "title": "",
          "showTitle": false,
          "inputWidgets": {},
          "nuid": "2bbfa359-b24d-497e-9048-e46d695684c8"
        },
        "colab": {
          "base_uri": "https://localhost:8080/"
        },
        "id": "ajCznRvmTflj",
        "outputId": "b65b9019-2f10-4bff-a55d-3a8b1332cb40"
      },
      "outputs": [
        {
          "output_type": "execute_result",
          "data": {
            "text/plain": [
              "{'AC/DC', 'Back in Black', 'NSYNC', 'Thriller'}"
            ]
          },
          "metadata": {},
          "execution_count": 5
        }
      ],
      "execution_count": 5
    },
    {
      "cell_type": "markdown",
      "source": [
        "Si agregamos el mismo elemento dos veces nada cambiara debido a que no puede haber elemento duplicados en un conjunto:"
      ],
      "metadata": {
        "application/vnd.databricks.v1+cell": {
          "title": "",
          "showTitle": false,
          "inputWidgets": {},
          "nuid": "d71d14f2-528e-42ad-8d96-0480adb07e02"
        },
        "id": "stXlmgcZTflk"
      }
    },
    {
      "cell_type": "code",
      "source": [
        "# Trata de agregar un elemento duplicado al conjunto\n",
        "\n",
        "A.add(\"NSYNC\")\n",
        "A"
      ],
      "metadata": {
        "application/vnd.databricks.v1+cell": {
          "title": "",
          "showTitle": false,
          "inputWidgets": {},
          "nuid": "8d5a9b89-3c15-4385-9b4b-57a735bc3267"
        },
        "colab": {
          "base_uri": "https://localhost:8080/"
        },
        "id": "pcBE4d0qTflk",
        "outputId": "5fc83258-c608-4c46-d366-4cd5caa5b798"
      },
      "outputs": [
        {
          "output_type": "execute_result",
          "data": {
            "text/plain": [
              "{'AC/DC', 'Back in Black', 'NSYNC', 'Thriller'}"
            ]
          },
          "metadata": {},
          "execution_count": 6
        }
      ],
      "execution_count": 6
    },
    {
      "cell_type": "markdown",
      "source": [
        "Podemos borrar un elemento del conjunto mediante el método <code>remove</code>:"
      ],
      "metadata": {
        "application/vnd.databricks.v1+cell": {
          "title": "",
          "showTitle": false,
          "inputWidgets": {},
          "nuid": "ab18cd1d-6368-402f-82ba-d129b581d94c"
        },
        "id": "6aozYMgWTflk"
      }
    },
    {
      "cell_type": "code",
      "source": [
        "# Remover un elemento del conjunto\n",
        "\n",
        "A.remove(\"NSYNC\")\n",
        "A"
      ],
      "metadata": {
        "application/vnd.databricks.v1+cell": {
          "title": "",
          "showTitle": false,
          "inputWidgets": {},
          "nuid": "e2894814-1d63-4d01-b9f0-d27873e386f1"
        },
        "colab": {
          "base_uri": "https://localhost:8080/"
        },
        "id": "fmGXPGEiTflk",
        "outputId": "00b87879-dc23-424b-8e22-d9503adc52d7"
      },
      "outputs": [
        {
          "output_type": "execute_result",
          "data": {
            "text/plain": [
              "{'AC/DC', 'Back in Black', 'Thriller'}"
            ]
          },
          "metadata": {},
          "execution_count": 7
        }
      ],
      "execution_count": 7
    },
    {
      "cell_type": "markdown",
      "source": [
        "Podemos verificar si existe un elemento especifico dentro del conjunto con el comando <code>in</code>:"
      ],
      "metadata": {
        "application/vnd.databricks.v1+cell": {
          "title": "",
          "showTitle": false,
          "inputWidgets": {},
          "nuid": "adb18837-3bea-48dc-96b0-ffd51e873a61"
        },
        "id": "j0gDd1qxTflk"
      }
    },
    {
      "cell_type": "code",
      "source": [
        "# Verificar si existe un elemento en el conjunto\n",
        "\n",
        "\"AC/DC\" in A"
      ],
      "metadata": {
        "application/vnd.databricks.v1+cell": {
          "title": "",
          "showTitle": false,
          "inputWidgets": {},
          "nuid": "b96d7b9c-e2a6-4526-9164-f71639ee6448"
        },
        "colab": {
          "base_uri": "https://localhost:8080/"
        },
        "id": "Q5jylGgHTflk",
        "outputId": "6aceddf3-6e1f-474a-9fca-7bb869ffc652"
      },
      "outputs": [
        {
          "output_type": "execute_result",
          "data": {
            "text/plain": [
              "True"
            ]
          },
          "metadata": {},
          "execution_count": 8
        }
      ],
      "execution_count": 8
    },
    {
      "cell_type": "markdown",
      "source": [
        "<h3 id=\"logic\">Operacion Lógicas con Conjuntos</h3>"
      ],
      "metadata": {
        "application/vnd.databricks.v1+cell": {
          "title": "",
          "showTitle": false,
          "inputWidgets": {},
          "nuid": "422b5543-1340-4d4e-b38d-a5223fab3e6e"
        },
        "id": "2s4DSHLZTflk"
      }
    },
    {
      "cell_type": "markdown",
      "source": [
        "Recuerda que puedes revisar la diferencia entre dos conjuntos, así como la diferencia simétrica, intersección y unión:"
      ],
      "metadata": {
        "application/vnd.databricks.v1+cell": {
          "title": "",
          "showTitle": false,
          "inputWidgets": {},
          "nuid": "4a4edda5-3034-42d1-a275-6cb64904c804"
        },
        "id": "lDexzWi2Tflk"
      }
    },
    {
      "cell_type": "markdown",
      "source": [
        "Considera estos dos conjuntos:"
      ],
      "metadata": {
        "application/vnd.databricks.v1+cell": {
          "title": "",
          "showTitle": false,
          "inputWidgets": {},
          "nuid": "5fed6cc6-cdb4-4a1f-9d2a-522eb0d83331"
        },
        "id": "_hKwmsaKTflk"
      }
    },
    {
      "cell_type": "code",
      "source": [
        "# Conjuntos de ejemplo\n",
        "\n",
        "album_set1 = set([\"Thriller\", 'AC/DC', 'Back in Black'])\n",
        "album_set2 = set([ \"AC/DC\", \"Back in Black\", \"The Dark Side of the Moon\"])"
      ],
      "metadata": {
        "application/vnd.databricks.v1+cell": {
          "title": "",
          "showTitle": false,
          "inputWidgets": {},
          "nuid": "92b27aaa-e2e3-4da5-9176-e0dbdb138e38"
        },
        "id": "yQ7L9fueTflk"
      },
      "outputs": [],
      "execution_count": 10
    },
    {
      "cell_type": "markdown",
      "source": [
        "<img src=\"https://s3-api.us-geo.objectstorage.softlayer.net/cf-courses-data/CognitiveClass/PY0101EN/Chapter%202/Images/SetsSamples.png\" width=\"650\" />"
      ],
      "metadata": {
        "application/vnd.databricks.v1+cell": {
          "title": "",
          "showTitle": false,
          "inputWidgets": {},
          "nuid": "a1cda677-0e93-4eeb-aa36-6328db70042a"
        },
        "id": "50CSHq0MTflk"
      }
    },
    {
      "cell_type": "code",
      "source": [
        "# Imprimir dos conjuntos\n",
        "\n",
        "album_set1, album_set2"
      ],
      "metadata": {
        "scrolled": true,
        "application/vnd.databricks.v1+cell": {
          "title": "",
          "showTitle": false,
          "inputWidgets": {},
          "nuid": "875280c6-741e-4537-a381-0eb5521e86d1"
        },
        "colab": {
          "base_uri": "https://localhost:8080/"
        },
        "id": "1vdMy9E_Tflk",
        "outputId": "d846fb52-5395-4b1b-eb64-3ca62018bc29"
      },
      "outputs": [
        {
          "output_type": "execute_result",
          "data": {
            "text/plain": [
              "({'AC/DC', 'Back in Black', 'Thriller'},\n",
              " {'AC/DC', 'Back in Black', 'The Dark Side of the Moon'})"
            ]
          },
          "metadata": {},
          "execution_count": 11
        }
      ],
      "execution_count": 11
    },
    {
      "cell_type": "markdown",
      "source": [
        "Como los dos conjuntos contienen <b>AC/DC</b> y <b>Back in Black</b> podemos representar estos elementos en común en la intersección de dos círculos."
      ],
      "metadata": {
        "application/vnd.databricks.v1+cell": {
          "title": "",
          "showTitle": false,
          "inputWidgets": {},
          "nuid": "77d89d4b-c3a3-4144-91eb-373a72491c97"
        },
        "id": "93xP3XZETflk"
      }
    },
    {
      "cell_type": "markdown",
      "source": [
        "<img src = \"https://s3-api.us-geo.objectstorage.softlayer.net/cf-courses-data/CognitiveClass/PY0101EN/Chapter%202/Images/SetsLogic.png\" width = \"650\" />"
      ],
      "metadata": {
        "application/vnd.databricks.v1+cell": {
          "title": "",
          "showTitle": false,
          "inputWidgets": {},
          "nuid": "eede0354-4f8e-4cd0-9a85-d176ebc75537"
        },
        "id": "O3VY5kRfTflk"
      }
    },
    {
      "cell_type": "markdown",
      "source": [
        "Para encontrar la intersección de dos conjuntos usaremos <code>&</code>:"
      ],
      "metadata": {
        "application/vnd.databricks.v1+cell": {
          "title": "",
          "showTitle": false,
          "inputWidgets": {},
          "nuid": "1902d5a0-6b7c-445c-9d63-dc2ac3927ceb"
        },
        "id": "B5iZc4uNTflk"
      }
    },
    {
      "cell_type": "code",
      "source": [
        "# Encontrar las intersecciones\n",
        "\n",
        "intersection = album_set1 & album_set2\n",
        "intersection"
      ],
      "metadata": {
        "application/vnd.databricks.v1+cell": {
          "title": "",
          "showTitle": false,
          "inputWidgets": {},
          "nuid": "00cfc994-9fde-4110-baf0-253d71b113fa"
        },
        "colab": {
          "base_uri": "https://localhost:8080/"
        },
        "id": "fha5qhBVTflk",
        "outputId": "0561b1e8-3825-4c05-881a-251064a7b066"
      },
      "outputs": [
        {
          "output_type": "execute_result",
          "data": {
            "text/plain": [
              "{'AC/DC', 'Back in Black'}"
            ]
          },
          "metadata": {},
          "execution_count": 12
        }
      ],
      "execution_count": 12
    },
    {
      "cell_type": "markdown",
      "source": [
        "Puedes encontrar los elementos que únicamente están dentro de <code>album_set1</code> usando el método <code>difference</code>:"
      ],
      "metadata": {
        "application/vnd.databricks.v1+cell": {
          "title": "",
          "showTitle": false,
          "inputWidgets": {},
          "nuid": "4fe67355-6a42-4394-9890-8db00ec40709"
        },
        "id": "l57k-EyxTfll"
      }
    },
    {
      "cell_type": "code",
      "source": [
        "# Encuentra la diferencia en set1 pero no en set2\n",
        "\n",
        "album_set1.difference(album_set2)"
      ],
      "metadata": {
        "application/vnd.databricks.v1+cell": {
          "title": "",
          "showTitle": false,
          "inputWidgets": {},
          "nuid": "9a0fa71e-f553-4a53-b7e1-49ef5003f39b"
        },
        "colab": {
          "base_uri": "https://localhost:8080/"
        },
        "id": "1hGagwayTfll",
        "outputId": "6af27044-15e5-49ce-b2da-145cd9787c5f"
      },
      "outputs": [
        {
          "output_type": "execute_result",
          "data": {
            "text/plain": [
              "{'Thriller'}"
            ]
          },
          "metadata": {},
          "execution_count": 13
        }
      ],
      "execution_count": 13
    },
    {
      "cell_type": "markdown",
      "source": [
        "Solo tienes que considerar los elementos en <code>album_set1</code>; todos los de <code>album_set2</code>, incluyendo los de la intersección, no están incluidos."
      ],
      "metadata": {
        "application/vnd.databricks.v1+cell": {
          "title": "",
          "showTitle": false,
          "inputWidgets": {},
          "nuid": "176cb24e-94ff-49fd-8053-6a896db9e102"
        },
        "id": "SDyDz4hDTfll"
      }
    },
    {
      "cell_type": "markdown",
      "source": [
        "<img src=\"https://s3-api.us-geo.objectstorage.softlayer.net/cf-courses-data/CognitiveClass/PY0101EN/Chapter%202/Images/SetsLeft.png\" width=\"650\" />"
      ],
      "metadata": {
        "application/vnd.databricks.v1+cell": {
          "title": "",
          "showTitle": false,
          "inputWidgets": {},
          "nuid": "2c0b8812-8ef3-481c-93d6-d2d289aafb3a"
        },
        "id": "Y6zCnGVSTfll"
      }
    },
    {
      "cell_type": "markdown",
      "source": [
        "Los elementos que pertenecen a <code>album_set2</code> pero no en <code>album_set1</code> esta dado por:"
      ],
      "metadata": {
        "application/vnd.databricks.v1+cell": {
          "title": "",
          "showTitle": false,
          "inputWidgets": {},
          "nuid": "210f5c42-3630-4142-a81c-23271e0c3de8"
        },
        "id": "3kzGbSPJTfln"
      }
    },
    {
      "cell_type": "code",
      "source": [
        "album_set2.difference(album_set1)"
      ],
      "metadata": {
        "application/vnd.databricks.v1+cell": {
          "title": "",
          "showTitle": false,
          "inputWidgets": {},
          "nuid": "7dfdd9c9-5070-450a-8454-cc1ba2ae46d4"
        },
        "colab": {
          "base_uri": "https://localhost:8080/"
        },
        "id": "BUcia3SvTfln",
        "outputId": "25edac9d-9d53-4ac3-bb47-7d5ac22861eb"
      },
      "outputs": [
        {
          "output_type": "execute_result",
          "data": {
            "text/plain": [
              "{'The Dark Side of the Moon'}"
            ]
          },
          "metadata": {},
          "execution_count": 16
        }
      ],
      "execution_count": 16
    },
    {
      "cell_type": "markdown",
      "source": [
        "<img src = \"https://s3-api.us-geo.objectstorage.softlayer.net/cf-courses-data/CognitiveClass/PY0101EN/Chapter%202/Images/SetsRight.png\" width=\"650\" />"
      ],
      "metadata": {
        "application/vnd.databricks.v1+cell": {
          "title": "",
          "showTitle": false,
          "inputWidgets": {},
          "nuid": "9b679807-eddd-458f-9ada-29d693afd1eb"
        },
        "id": "Qevr4SbGTfln"
      }
    },
    {
      "cell_type": "markdown",
      "source": [
        "Puedes encontrar la intersección de <code>album_list1</code> y <code>album_list2</code> con el método <code>intersection</code>:"
      ],
      "metadata": {
        "application/vnd.databricks.v1+cell": {
          "title": "",
          "showTitle": false,
          "inputWidgets": {},
          "nuid": "b3730931-7397-4a5e-8b4c-be08e63605cd"
        },
        "id": "O2g4Gq2ATfln"
      }
    },
    {
      "cell_type": "code",
      "source": [
        "# Usar el método intersection para encontrar la intersección entre of album_list1 y album_list2\n",
        "\n",
        "album_set1.intersection(album_set2)"
      ],
      "metadata": {
        "application/vnd.databricks.v1+cell": {
          "title": "",
          "showTitle": false,
          "inputWidgets": {},
          "nuid": "81ba2110-0edb-4512-bd98-f8dcaf3fc343"
        },
        "colab": {
          "base_uri": "https://localhost:8080/"
        },
        "id": "_Ig5pzC-Tfln",
        "outputId": "78cb33e4-f13c-4fd4-ad8f-42e460410d18"
      },
      "outputs": [
        {
          "output_type": "execute_result",
          "data": {
            "text/plain": [
              "{'AC/DC', 'Back in Black'}"
            ]
          },
          "metadata": {},
          "execution_count": 15
        }
      ],
      "execution_count": 15
    },
    {
      "cell_type": "markdown",
      "source": [
        "Lo siguiente corresponde a la intersección de los dos círculos:"
      ],
      "metadata": {
        "application/vnd.databricks.v1+cell": {
          "title": "",
          "showTitle": false,
          "inputWidgets": {},
          "nuid": "96181e68-5a1c-4d4c-8df3-fedadd115391"
        },
        "id": "mWz12ghlTflo"
      }
    },
    {
      "cell_type": "markdown",
      "source": [
        "<img src=\"https://s3-api.us-geo.objectstorage.softlayer.net/cf-courses-data/CognitiveClass/PY0101EN/Chapter%202/Images/SetsIntersect.png\" width=\"650\" />"
      ],
      "metadata": {
        "application/vnd.databricks.v1+cell": {
          "title": "",
          "showTitle": false,
          "inputWidgets": {},
          "nuid": "ad80023a-2794-4095-8129-c44a3b5d508e"
        },
        "id": "kyypNDv1Tflo"
      }
    },
    {
      "cell_type": "markdown",
      "source": [
        "La unión es la suma de todos los elementos de ambos conjuntos, se representa pintando los dos círculos:"
      ],
      "metadata": {
        "application/vnd.databricks.v1+cell": {
          "title": "",
          "showTitle": false,
          "inputWidgets": {},
          "nuid": "22aaeb36-61e7-42fd-ad69-5c8b7f376a39"
        },
        "id": "vDfois5LTflo"
      }
    },
    {
      "cell_type": "markdown",
      "source": [
        "<img src = \"https://s3-api.us-geo.objectstorage.softlayer.net/cf-courses-data/CognitiveClass/PY0101EN/Chapter%202/Images/SetsUnion.png\" width=\"650\" />"
      ],
      "metadata": {
        "application/vnd.databricks.v1+cell": {
          "title": "",
          "showTitle": false,
          "inputWidgets": {},
          "nuid": "ad0f7913-f45c-4a59-81de-56f8d45400f5"
        },
        "id": "BAnbhERpTflo"
      }
    },
    {
      "cell_type": "markdown",
      "source": [
        "La unión esta dada por:"
      ],
      "metadata": {
        "application/vnd.databricks.v1+cell": {
          "title": "",
          "showTitle": false,
          "inputWidgets": {},
          "nuid": "596a03f6-3266-4333-ba55-51b880ce0065"
        },
        "id": "WG5OLtTgTflo"
      }
    },
    {
      "cell_type": "code",
      "source": [
        "# Encontrar la unión de los dos conjuntos\n",
        "\n",
        "album_set1.union(album_set2)"
      ],
      "metadata": {
        "collapsed": true,
        "application/vnd.databricks.v1+cell": {
          "title": "",
          "showTitle": false,
          "inputWidgets": {},
          "nuid": "0b860472-26e1-4fba-bd5a-67a0c670e696"
        },
        "colab": {
          "base_uri": "https://localhost:8080/"
        },
        "id": "uu6dPNtuTflo",
        "outputId": "26526321-635b-4e15-c2a3-7f2174565ea6"
      },
      "outputs": [
        {
          "output_type": "execute_result",
          "data": {
            "text/plain": [
              "{'AC/DC', 'Back in Black', 'The Dark Side of the Moon', 'Thriller'}"
            ]
          },
          "metadata": {},
          "execution_count": 14
        }
      ],
      "execution_count": 14
    },
    {
      "cell_type": "markdown",
      "source": [
        "Se puede averiguar si un conjunto es un súper conjunto o un sub conjunto de otro, respectivamente, de la siguiente forma:"
      ],
      "metadata": {
        "application/vnd.databricks.v1+cell": {
          "title": "",
          "showTitle": false,
          "inputWidgets": {},
          "nuid": "3bc71d69-d1a3-4e8a-87fc-583f5ddc5b86"
        },
        "id": "gggVNfoBTflo"
      }
    },
    {
      "cell_type": "code",
      "source": [
        "# Revisar si es un super conjunto\n",
        "\n",
        "set(album_set1).issuperset(album_set2)"
      ],
      "metadata": {
        "application/vnd.databricks.v1+cell": {
          "title": "",
          "showTitle": false,
          "inputWidgets": {},
          "nuid": "2f767858-8a57-4311-88c2-c433183fb30f"
        },
        "colab": {
          "base_uri": "https://localhost:8080/"
        },
        "id": "xs5iwRjkTflo",
        "outputId": "bd58b7e0-df6f-4865-fa61-953f55131273"
      },
      "outputs": [
        {
          "output_type": "execute_result",
          "data": {
            "text/plain": [
              "False"
            ]
          },
          "metadata": {},
          "execution_count": 17
        }
      ],
      "execution_count": 17
    },
    {
      "cell_type": "code",
      "source": [
        "# Revisar si es un sub conjunto\n",
        "\n",
        "set(album_set2).issubset(album_set1)"
      ],
      "metadata": {
        "application/vnd.databricks.v1+cell": {
          "title": "",
          "showTitle": false,
          "inputWidgets": {},
          "nuid": "578fce3e-32d4-4e3f-be19-662eacab6ec8"
        },
        "colab": {
          "base_uri": "https://localhost:8080/"
        },
        "id": "FUVu8i0CTflo",
        "outputId": "57a9658d-f297-4d34-dad4-e8abeeb0a9af"
      },
      "outputs": [
        {
          "output_type": "execute_result",
          "data": {
            "text/plain": [
              "False"
            ]
          },
          "metadata": {},
          "execution_count": 18
        }
      ],
      "execution_count": 18
    },
    {
      "cell_type": "markdown",
      "source": [
        "Este es un ejemplo donde <code>issubset()</code> y <code>issuperset()</code> regresan un valor verdadero:"
      ],
      "metadata": {
        "application/vnd.databricks.v1+cell": {
          "title": "",
          "showTitle": false,
          "inputWidgets": {},
          "nuid": "6766f345-49db-4c1f-873f-b2c67a68c33a"
        },
        "id": "o4yqJbsNTflo"
      }
    },
    {
      "cell_type": "code",
      "source": [
        "# Revisar si es un sub conjunto\n",
        "\n",
        "set({\"Back in Black\", \"AC/DC\"}).issubset(album_set1)"
      ],
      "metadata": {
        "application/vnd.databricks.v1+cell": {
          "title": "",
          "showTitle": false,
          "inputWidgets": {},
          "nuid": "09af87fc-b662-4a26-94ac-df3395968a41"
        },
        "colab": {
          "base_uri": "https://localhost:8080/"
        },
        "id": "pFz_DjHnTflo",
        "outputId": "2495157b-edc9-4d0c-a937-163cb1990abd"
      },
      "outputs": [
        {
          "output_type": "execute_result",
          "data": {
            "text/plain": [
              "True"
            ]
          },
          "metadata": {},
          "execution_count": 19
        }
      ],
      "execution_count": 19
    },
    {
      "cell_type": "code",
      "source": [
        "# Revisar si es un super conjunto\n",
        "\n",
        "album_set1.issuperset({\"Back in Black\", \"AC/DC\"})"
      ],
      "metadata": {
        "application/vnd.databricks.v1+cell": {
          "title": "",
          "showTitle": false,
          "inputWidgets": {},
          "nuid": "bad299a9-898f-438d-b504-6bb1bd42f2a7"
        },
        "colab": {
          "base_uri": "https://localhost:8080/"
        },
        "id": "fSbWm4wMTflo",
        "outputId": "8df770ae-f000-4bf8-b5f6-415b9de8acc6"
      },
      "outputs": [
        {
          "output_type": "execute_result",
          "data": {
            "text/plain": [
              "True"
            ]
          },
          "metadata": {},
          "execution_count": 20
        }
      ],
      "execution_count": 20
    },
    {
      "cell_type": "markdown",
      "source": [
        "<h2 id=\"quiz\">Cuestionario sobre conjuntos</h2>"
      ],
      "metadata": {
        "application/vnd.databricks.v1+cell": {
          "title": "",
          "showTitle": false,
          "inputWidgets": {},
          "nuid": "26d53c16-c01f-4835-a6e8-ee2ad7ef05bd"
        },
        "id": "RADsOSUkTflo"
      }
    },
    {
      "cell_type": "markdown",
      "source": [
        "Transformar la lista <code>['rap','house','electronic music', 'rap']</code> en un conjunto:"
      ],
      "metadata": {
        "application/vnd.databricks.v1+cell": {
          "title": "",
          "showTitle": false,
          "inputWidgets": {},
          "nuid": "74126b07-e95d-4dc7-956f-2b09e24be04b"
        },
        "id": "pXJMcG_zTflo"
      }
    },
    {
      "cell_type": "code",
      "source": [
        "# Escribe abajo tu código y presiona Shift+Enter para ejecutarlo\n",
        "d = set(['rap','house','electronic music', 'rap'])\n",
        "d"
      ],
      "metadata": {
        "application/vnd.databricks.v1+cell": {
          "title": "",
          "showTitle": false,
          "inputWidgets": {},
          "nuid": "9423486d-6f4e-4bb5-aeb3-83de0c85361b"
        },
        "colab": {
          "base_uri": "https://localhost:8080/"
        },
        "id": "VY662otUTflo",
        "outputId": "5025fce8-7400-45c6-8143-26bd567bbd4d"
      },
      "outputs": [
        {
          "output_type": "execute_result",
          "data": {
            "text/plain": [
              "{'electronic music', 'house', 'rap'}"
            ]
          },
          "metadata": {},
          "execution_count": 21
        }
      ],
      "execution_count": 21
    },
    {
      "cell_type": "markdown",
      "source": [
        "Haz doble click <b>aquí</b> para ver la solución.\n",
        "<!-- Your answer is below:\n",
        "set(['rap','house','electronic music','rap'])\n",
        "-->"
      ],
      "metadata": {
        "application/vnd.databricks.v1+cell": {
          "title": "",
          "showTitle": false,
          "inputWidgets": {},
          "nuid": "4f780d1d-cd1e-481f-85af-081ac06129e0"
        },
        "id": "dMSXLpz1Tflo"
      }
    },
    {
      "cell_type": "markdown",
      "source": [
        "Considera que la lista <code>A = [1, 2, 2, 1]</code> y el conjunto <code>B = set([1, 2, 2, 1])</code> suman <code>sum(A) = sum(B)</code>"
      ],
      "metadata": {
        "application/vnd.databricks.v1+cell": {
          "title": "",
          "showTitle": false,
          "inputWidgets": {},
          "nuid": "ad6e9914-2fda-429f-b732-5490e9490b9a"
        },
        "id": "d5wqXyXtTflo"
      }
    },
    {
      "cell_type": "code",
      "source": [
        "# Escribe abajo tu código y presiona Shift+Enter para ejecutarlo\n",
        "A = [1, 2, 2, 1]\n",
        "B = set([1, 2, 2, 1])\n",
        "print(\"the sum of A is:\", sum(A))\n",
        "print(\"the sum of B is:\", sum(B))"
      ],
      "metadata": {
        "application/vnd.databricks.v1+cell": {
          "title": "",
          "showTitle": false,
          "inputWidgets": {},
          "nuid": "697fa6ef-f466-4236-9fc6-d423a473c370"
        },
        "colab": {
          "base_uri": "https://localhost:8080/"
        },
        "id": "Q3z3mu5MTflo",
        "outputId": "8e5a5e1b-0d43-4f18-b243-374d7a33edfd"
      },
      "outputs": [
        {
          "output_type": "stream",
          "name": "stdout",
          "text": [
            "the sum of A is: 6\n",
            "the sum of B is: 3\n"
          ]
        }
      ],
      "execution_count": 22
    },
    {
      "cell_type": "markdown",
      "source": [
        "Haz doble click <b>aquí</b> para ver la solución.\n",
        "\n",
        "<!-- Your answer is below:\n",
        "A = [1, 2, 2, 1]  \n",
        "B = set([1, 2, 2, 1])\n",
        "print(\"the sum of A is:\", sum(A))\n",
        "print(\"the sum of B is:\", sum(B))\n",
        "-->"
      ],
      "metadata": {
        "application/vnd.databricks.v1+cell": {
          "title": "",
          "showTitle": false,
          "inputWidgets": {},
          "nuid": "d58337bb-3a3c-41f0-9a6c-41921cca17c8"
        },
        "id": "DOPBVpmdTflp"
      }
    },
    {
      "cell_type": "markdown",
      "source": [
        "Crea un nuevo conjunto <code>album_set3</code> que sea la unión de <code>album_set1</code> y <code>album_set2</code>:"
      ],
      "metadata": {
        "application/vnd.databricks.v1+cell": {
          "title": "",
          "showTitle": false,
          "inputWidgets": {},
          "nuid": "b83ef1ae-b339-4d9c-ae67-1e13d8da9a61"
        },
        "id": "od52K0qFTflp"
      }
    },
    {
      "cell_type": "code",
      "source": [
        "# Escribe abajo tu código y presiona Shift+Enter para ejecutarlo\n",
        "\n",
        "album_set1 = set([\"Thriller\", 'AC/DC', 'Back in Black'])\n",
        "album_set2 = set([ \"AC/DC\", \"Back in Black\", \"The Dark Side of the Moon\"])\n",
        "album_set3 = album_set1.union(album_set2)\n",
        "album_set3"
      ],
      "metadata": {
        "application/vnd.databricks.v1+cell": {
          "title": "",
          "showTitle": false,
          "inputWidgets": {},
          "nuid": "f3d7d74d-a639-41f9-9d70-4e7278f24f39"
        },
        "colab": {
          "base_uri": "https://localhost:8080/"
        },
        "id": "N3JXN02DTflp",
        "outputId": "d63f8ad1-ec7e-4858-fadd-d61dc2910e3e"
      },
      "outputs": [
        {
          "output_type": "execute_result",
          "data": {
            "text/plain": [
              "{'AC/DC', 'Back in Black', 'The Dark Side of the Moon', 'Thriller'}"
            ]
          },
          "metadata": {},
          "execution_count": 23
        }
      ],
      "execution_count": 23
    },
    {
      "cell_type": "markdown",
      "source": [
        "Haz doble click <b>aquí</b> para ver la solución.\n",
        "\n",
        "<!-- Your answer is below:\n",
        "album_set3 = album_set1.union(album_set2)\n",
        "album_set3\n",
        "-->"
      ],
      "metadata": {
        "application/vnd.databricks.v1+cell": {
          "title": "",
          "showTitle": false,
          "inputWidgets": {},
          "nuid": "20abc767-a503-4f29-90a2-0c7e1d65b3f9"
        },
        "id": "dZW4vJHbTflp"
      }
    },
    {
      "cell_type": "markdown",
      "source": [
        "Averigua si <code>album_set1</code> es un subconjunto de <code>album_set3</code>:"
      ],
      "metadata": {
        "application/vnd.databricks.v1+cell": {
          "title": "",
          "showTitle": false,
          "inputWidgets": {},
          "nuid": "86d9065c-fc26-4b5a-9deb-e7c517c4ac46"
        },
        "id": "ZPYpzuo3Tflp"
      }
    },
    {
      "cell_type": "code",
      "source": [
        "# Escribe abajo tu código y presiona Shift+Enter para ejecutarlo\n",
        "album_set1.issubset(album_set3)"
      ],
      "metadata": {
        "application/vnd.databricks.v1+cell": {
          "title": "",
          "showTitle": false,
          "inputWidgets": {},
          "nuid": "c39979b3-b173-46a3-92a4-4610fbeeed79"
        },
        "colab": {
          "base_uri": "https://localhost:8080/"
        },
        "id": "lcnUkvETTflp",
        "outputId": "4ef0aaac-9544-40b9-a493-6a13401424dd"
      },
      "outputs": [
        {
          "output_type": "execute_result",
          "data": {
            "text/plain": [
              "True"
            ]
          },
          "metadata": {},
          "execution_count": 24
        }
      ],
      "execution_count": 24
    },
    {
      "cell_type": "markdown",
      "source": [
        "Haz doble click <b>aquí</b> para ver la solución.\n",
        "\n",
        "<!-- Your answer is below:\n",
        "album_set1.issubset(album_set3)\n",
        "-->"
      ],
      "metadata": {
        "application/vnd.databricks.v1+cell": {
          "title": "",
          "showTitle": false,
          "inputWidgets": {},
          "nuid": "152603f1-f354-40d1-a532-ce58f119f576"
        },
        "id": "RKb4snhgTflp"
      }
    }
  ],
  "metadata": {
    "kernelspec": {
      "display_name": "Python 3",
      "language": "python",
      "name": "python3"
    },
    "language_info": {
      "mimetype": "text/x-python",
      "name": "python",
      "pygments_lexer": "ipython3",
      "codemirror_mode": {
        "name": "ipython",
        "version": 3
      },
      "version": "3.7.7",
      "nbconvert_exporter": "python",
      "file_extension": ".py"
    },
    "application/vnd.databricks.v1+notebook": {
      "notebookName": "04-Python-Conjuntos",
      "dashboards": [],
      "notebookMetadata": {
        "pythonIndentUnit": 2
      },
      "language": "python",
      "widgets": {},
      "notebookOrigID": 3296315911137944
    },
    "colab": {
      "provenance": [],
      "include_colab_link": true
    }
  },
  "nbformat": 4,
  "nbformat_minor": 0
}
